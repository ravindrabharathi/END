{
  "nbformat": 4,
  "nbformat_minor": 0,
  "metadata": {
    "colab": {
      "name": "Assignment_8B.ipynb",
      "provenance": [],
      "authorship_tag": "ABX9TyPIf9+Q+U/DXgtpG4xAHWbZ",
      "include_colab_link": true
    },
    "kernelspec": {
      "name": "python3",
      "display_name": "Python 3"
    }
  },
  "cells": [
    {
      "cell_type": "markdown",
      "metadata": {
        "id": "view-in-github",
        "colab_type": "text"
      },
      "source": [
        "<a href=\"https://colab.research.google.com/github/ravindrabharathi/END/blob/ravindra/session8/Assignment_8B.ipynb\" target=\"_parent\"><img src=\"https://colab.research.google.com/assets/colab-badge.svg\" alt=\"Open In Colab\"/></a>"
      ]
    },
    {
      "cell_type": "markdown",
      "metadata": {
        "id": "WtftzKY3tXax"
      },
      "source": [
        "1. Find and return nth element in a user provided list\r\n",
        "2. Sort an array using binary sort algorithm\r\n",
        "3. Seperate each character in a string with '<space>'\r\n",
        "4. Find mean of list of numbers\r\n",
        "5. Find std deviation of list of numbers\r\n",
        "6. Find min in a list of numbers\r\n",
        "7. Join two lists\r\n",
        "8. Empty a list of items\r\n",
        "9. Remove nth item in list \r\n",
        "10. Increase all items in list by n\r\n",
        "11. Decrease all items in list by n\r\n",
        "12. Divide all items in list by n\r\n",
        "13. Multiply all items in list by n \r\n",
        "14. Find max in a list of numbers\r\n",
        "15. Check if an item exists in list\r\n",
        "16. Return a copy of list\r\n",
        "17. Extract even numbers from list\r\n",
        "18  Extract odd numbers from list\r\n",
        "19. Return a tuple with one item or create a tuple from one item\r\n",
        "20. Remove duplicates from a list\r\n",
        "21. Check whether two sets have a intersection or not\r\n",
        "22. Check whether set A is subset of set B\r\n",
        "23. Check whether set A is superset if Set B\r\n",
        "24. Return union if two sets\r\n",
        "25. Return intersection of two sets\r\n",
        "26. Check if a word exists in a sentence\r\n",
        "27. Print number of characters in sentence\r\n",
        "28. Concatenate two strings\r\n",
        "29. Replace a substring\r\n",
        "30. Toggle uppercase and lowercase\r\n",
        "31. Add element to a dictionary\r\n",
        "32. Remove elemment from a dictionary\r\n",
        "33. Join two dictionaries\r\n",
        "34. Find cube/n root of a number\r\n",
        "35. Calculate area of a rectangle/parallelogram\r\n",
        "36. Calculate velocity given time and distance\r\n",
        "37. Calculate acceleration given time and velocity\r\n",
        "38. Print if a greater than b\r\n",
        "39. Print square root of number\r\n",
        "40. Print absolute value of number\r\n",
        "41. Convert feet to meter\r\n",
        "42. Convert inches to cm\r\n",
        "43. Convert mile to km\r\n",
        "44. Convert celcius to farenheit\r\n",
        "45. Insert number at specied position n of array/list\r\n",
        "46. Reverse a list\r\n",
        "47. Print if a and b are equal\r\n",
        "48. Function to display current time\r\n",
        "49. Check if current year is leap year\r\n",
        "50. Print current month\r\n",
        "51. Print current day"
      ]
    },
    {
      "cell_type": "code",
      "metadata": {
        "id": "u6exI71rrjSn"
      },
      "source": [
        "#Write a Python function to Find and return nth element in a user provided list\r\n",
        "def find_nth_element(the_list, n):\r\n",
        "  nth_elem = the_list[n]    \r\n",
        "  return nth_elem\r\n",
        "\r\n",
        "find_nth_element([1,2,3,4,5,6],2)  "
      ],
      "execution_count": null,
      "outputs": []
    },
    {
      "cell_type": "code",
      "metadata": {
        "id": "XH2NU2mRtcEp"
      },
      "source": [
        "#Write a Python function to Sort an array using binary sort algorithm"
      ],
      "execution_count": null,
      "outputs": []
    },
    {
      "cell_type": "code",
      "metadata": {
        "id": "-upfzmZLt4gi"
      },
      "source": [
        "#Write a Python function to Seperate each character in a string with '<space>'\r\n",
        "\r\n"
      ],
      "execution_count": null,
      "outputs": []
    },
    {
      "cell_type": "code",
      "metadata": {
        "id": "r2rqjxHnt8QL"
      },
      "source": [
        "#Write a Python function to Calculate and return mean of user provided list of numbers\r\n",
        "def get_mean(the_list):\r\n",
        "  return sum(the_list)/len(the_list)\r\n",
        "\r\n",
        "get_mean([1,2,3,4,5])  "
      ],
      "execution_count": null,
      "outputs": []
    },
    {
      "cell_type": "code",
      "metadata": {
        "id": "hoMqYxv5u35G"
      },
      "source": [
        "#Write a Python function to calculate and return standard deviation of user provided list of numbers \r\n",
        "\r\n",
        "def get_std(the_list):\r\n",
        "  import math\r\n",
        "  ave=sum(the_list)/len(the_list)\r\n",
        "  diff=[x-ave for x in the_list]\r\n",
        "  squares=[x**2 for x in diff]\r\n",
        "  variance=sum(squares)/len(the_list)\r\n",
        "  std =math.sqrt(variance)\r\n",
        "  return std\r\n",
        "\r\n",
        "get_std([1,2,3,4,5,6,7,8,9])  "
      ],
      "execution_count": null,
      "outputs": []
    },
    {
      "cell_type": "code",
      "metadata": {
        "id": "nSp_Wu1_wpqz"
      },
      "source": [
        "#Write a Python function to Find and return min in a user provided list of numbers\r\n",
        "def get_min(the_list):\r\n",
        "  return min(the_list)\r\n",
        "\r\n",
        "get_min([2,5,6,7,1,4,8])  "
      ],
      "execution_count": null,
      "outputs": []
    },
    {
      "cell_type": "code",
      "metadata": {
        "id": "xg3tMydxw_W6"
      },
      "source": [
        "#Write a Python function to Join two user provided lists and return it\r\n",
        "def join_lists(list1,list2):\r\n",
        "  return list1+list2\r\n",
        "\r\n",
        "join_lists([1,2,3,4],[5,6,7,8])  "
      ],
      "execution_count": null,
      "outputs": []
    },
    {
      "cell_type": "code",
      "metadata": {
        "id": "XvhMbkerxTkP"
      },
      "source": [
        "#Write a Python function to Empty an user provided list of items\r\n",
        "def empty_this_list(the_list):\r\n",
        "  the_list.clear()\r\n",
        "  return the_list\r\n",
        "\r\n",
        "empty_this_list([12,3,4,4,6,7,8])\r\n",
        "\r\n"
      ],
      "execution_count": null,
      "outputs": []
    },
    {
      "cell_type": "code",
      "metadata": {
        "id": "FWtSQ3h4yL2L"
      },
      "source": [
        "#Write a Python function to Remove nth item in a user provided list of items \r\n",
        "def remove_nth_item(the_list,n):\r\n",
        "  del(the_list[n-1])\r\n",
        "  return the_list\r\n",
        "\r\n",
        "remove_nth_item([1,2,3,4,5,6,7,8],5)"
      ],
      "execution_count": null,
      "outputs": []
    },
    {
      "cell_type": "code",
      "metadata": {
        "id": "rxLzQR1ezFth"
      },
      "source": [
        "#Write a Python function to Increase all items in user provided list by n\r\n",
        "def increase_by_n(the_list,n):\r\n",
        "  the_list=[x+n for x in the_list]\r\n",
        "  return the_list\r\n",
        "\r\n",
        "increase_by_n([1,2,3,4,5,6,7,8],5)"
      ],
      "execution_count": null,
      "outputs": []
    },
    {
      "cell_type": "code",
      "metadata": {
        "id": "jDkpUyWrzlHG"
      },
      "source": [
        "#Write a Python function to Decrease all items in user provided list by n\r\n",
        "\r\n",
        "def decrease_by_n(the_list,n):\r\n",
        "  the_list=[x-n for x in the_list]\r\n",
        "  return the_list\r\n",
        "\r\n",
        "decrease_by_n([1,2,3,4,5,6,7,8],5)"
      ],
      "execution_count": null,
      "outputs": []
    },
    {
      "cell_type": "code",
      "metadata": {
        "id": "HcM7QeYC0EiZ"
      },
      "source": [
        "#Write a Python function to Divide all items in user provided list by n\r\n",
        "def divide_by_n(the_list,n):\r\n",
        "  the_list=[x/n for x in the_list]\r\n",
        "  return the_list\r\n",
        "\r\n",
        "divide_by_n([1,2,3,4,5,6,7,8],5)\r\n"
      ],
      "execution_count": null,
      "outputs": []
    },
    {
      "cell_type": "code",
      "metadata": {
        "colab": {
          "base_uri": "https://localhost:8080/"
        },
        "id": "3wo6dcfh0R2x",
        "outputId": "72779210-06d4-4a60-eb48-789798afcbc3"
      },
      "source": [
        "#Write a Python function to Multiply all items in user provided list by n\r\n",
        "def multiply_by_n(the_list,n):\r\n",
        "  the_list=[x*n for x in the_list]\r\n",
        "  return the_list\r\n",
        "\r\n",
        "multiply_by_n([1,2,3,4,5,6,7,8],5)"
      ],
      "execution_count": 22,
      "outputs": [
        {
          "output_type": "execute_result",
          "data": {
            "text/plain": [
              "[5, 10, 15, 20, 25, 30, 35, 40]"
            ]
          },
          "metadata": {
            "tags": []
          },
          "execution_count": 22
        }
      ]
    },
    {
      "cell_type": "code",
      "metadata": {
        "id": "HEztg_yo0a_l"
      },
      "source": [
        "#Write a Python function to Find and return max in a user provider list of numbers\r\n",
        "\r\n",
        "def get_max(the_list):\r\n",
        "  return max(the_list)\r\n",
        "\r\n",
        "get_max([12,4,6,18,19,23])  "
      ],
      "execution_count": null,
      "outputs": []
    },
    {
      "cell_type": "code",
      "metadata": {
        "id": "6OiU-mkl02ex"
      },
      "source": [
        "#Write a Python function to Check if an item exists in user provided list\r\n",
        "def check_item_exists(the_list,the_item):\r\n",
        "  return the_item in the_list\r\n",
        "\r\n",
        "check_item_exists([1,2,3,4,5,6,7,8],5)  "
      ],
      "execution_count": null,
      "outputs": []
    },
    {
      "cell_type": "code",
      "metadata": {
        "id": "qVplX3by1idv"
      },
      "source": [
        "#Write a Python function to Return a copy of a user provided list\r\n",
        "def get_copy(the_list):\r\n",
        "  return the_list.copy()\r\n",
        "\r\n",
        "get_copy([1,2,3,4,5])  "
      ],
      "execution_count": null,
      "outputs": []
    },
    {
      "cell_type": "code",
      "metadata": {
        "colab": {
          "base_uri": "https://localhost:8080/"
        },
        "id": "1FI-vu8j5LAI",
        "outputId": "45c046c7-e2fe-4168-ea23-0715dd5ec2a2"
      },
      "source": [
        "#Write a Python function to Extract even numbers from user provoded list \r\n",
        "def get_even(the_list):\r\n",
        "  the_new_list=[x for x in the_list if x%2==0 ]\r\n",
        "  return the_new_list\r\n",
        "\r\n",
        "get_even([1,2,3,4,5,6,7,8,9])\r\n"
      ],
      "execution_count": 28,
      "outputs": [
        {
          "output_type": "execute_result",
          "data": {
            "text/plain": [
              "[2, 4, 6, 8]"
            ]
          },
          "metadata": {
            "tags": []
          },
          "execution_count": 28
        }
      ]
    },
    {
      "cell_type": "code",
      "metadata": {
        "colab": {
          "base_uri": "https://localhost:8080/"
        },
        "id": "ln1Zs4cf6Nio",
        "outputId": "62a626a6-cf07-47df-da5f-7ace190d4a4a"
      },
      "source": [
        "#Write a Python function to Extract odd numbers from user provoded list \r\n",
        "def get_odd(the_list):\r\n",
        "  the_new_list=[x for x in the_list if x%2!=0 ]\r\n",
        "  return the_new_list\r\n",
        "\r\n",
        "get_odd([1,2,3,4,5,6,7,8,9])"
      ],
      "execution_count": 29,
      "outputs": [
        {
          "output_type": "execute_result",
          "data": {
            "text/plain": [
              "[1, 3, 5, 7, 9]"
            ]
          },
          "metadata": {
            "tags": []
          },
          "execution_count": 29
        }
      ]
    },
    {
      "cell_type": "code",
      "metadata": {
        "id": "oZc9FRJX6ZSX"
      },
      "source": [
        "#Write a python function to create and return a tuple from single user provided item\r\n",
        "def get_tuple(the_item):\r\n",
        "  return (the_item,)\r\n",
        "\r\n",
        "get_tuple(5)"
      ],
      "execution_count": null,
      "outputs": []
    },
    {
      "cell_type": "code",
      "metadata": {
        "id": "QbM3xx7060Of"
      },
      "source": [
        "#Write a python function to remove duplicates from a list\r\n",
        "def remove_duplicates(the_list):\r\n",
        "  return list(set(the_list))\r\n",
        "\r\n",
        "remove_duplicates([1,2,2,3,5,5,7,8,12,13,12,14])  "
      ],
      "execution_count": null,
      "outputs": []
    },
    {
      "cell_type": "code",
      "metadata": {
        "colab": {
          "base_uri": "https://localhost:8080/"
        },
        "id": "c_xqmJmx7bXE",
        "outputId": "8fa1b260-cf4b-4d22-ffcd-89e571f10f39"
      },
      "source": [
        "#Write a python function to Check whether two user provided sets have an intersection or not\r\n",
        "def has_intersection(set1,set2):\r\n",
        "  return not (set1.isdisjoint(set2))\r\n",
        "\r\n",
        "has_intersection({1,2,3,4},{6,7,8,9})  "
      ],
      "execution_count": 41,
      "outputs": [
        {
          "output_type": "execute_result",
          "data": {
            "text/plain": [
              "False"
            ]
          },
          "metadata": {
            "tags": []
          },
          "execution_count": 41
        }
      ]
    },
    {
      "cell_type": "code",
      "metadata": {
        "id": "Pq72vQqc9gi-"
      },
      "source": [
        "#write a python function to check and return if set A is subset of B\r\n",
        "def is_subset(A,B):\r\n",
        "  return A.issubset(B)\r\n",
        "\r\n",
        "is_subset({1,2,3,4,5},{1,2,3,4,5,6,7,8,9})  "
      ],
      "execution_count": null,
      "outputs": []
    },
    {
      "cell_type": "code",
      "metadata": {
        "id": "OYi1iGCV-SHs"
      },
      "source": [
        "#write a python function to check and return if set A is superset of B\r\n",
        "def is_subset(A,B):\r\n",
        "  return A.issuperset(B)\r\n",
        "\r\n",
        "is_subset({1,2,3,4,5},{1,2,3,4,5,6,7,8,9})  "
      ],
      "execution_count": null,
      "outputs": []
    },
    {
      "cell_type": "code",
      "metadata": {
        "id": "07plBsC8-vWj"
      },
      "source": [
        "#write a python function to return a list of common items from two user provided lists \r\n",
        "def get_common_items(list1,list2):\r\n",
        "  return list(set(list1).intersection(set(list2)))\r\n",
        "\r\n",
        "get_common_items([2,4,6,8,9,11,12,16],[1,2,3,4,5,6,7,8,11,1,12,13,15,17])  "
      ],
      "execution_count": null,
      "outputs": []
    },
    {
      "cell_type": "code",
      "metadata": {
        "colab": {
          "base_uri": "https://localhost:8080/"
        },
        "id": "uYkUBP37Axv4",
        "outputId": "10839950-4942-4b79-d90d-a7e7b88c393d"
      },
      "source": [
        "#Write a python function to combine and return only unique items from two user provided lists \r\n",
        "def get_combined_unique(list1,list2):\r\n",
        "  return list(set(list1).union(set(list2)))\r\n",
        "\r\n",
        "get_combined_unique([1,2,3,4],[2,3,4,2,4,6])  "
      ],
      "execution_count": 57,
      "outputs": [
        {
          "output_type": "execute_result",
          "data": {
            "text/plain": [
              "[1, 2, 3, 4, 6]"
            ]
          },
          "metadata": {
            "tags": []
          },
          "execution_count": 57
        }
      ]
    },
    {
      "cell_type": "code",
      "metadata": {
        "colab": {
          "base_uri": "https://localhost:8080/"
        },
        "id": "He784xk5B00e",
        "outputId": "83a76597-2139-4a46-d61f-6d1a60325370"
      },
      "source": [
        "#write a python program to check if word exists a sentence\r\n",
        "\r\n",
        "def does_word_exist(sentnc,word):\r\n",
        "  return word in sentnc\r\n",
        "\r\n",
        "does_word_exist('This is a test sentence','test')  "
      ],
      "execution_count": 60,
      "outputs": [
        {
          "output_type": "execute_result",
          "data": {
            "text/plain": [
              "True"
            ]
          },
          "metadata": {
            "tags": []
          },
          "execution_count": 60
        }
      ]
    },
    {
      "cell_type": "code",
      "metadata": {
        "colab": {
          "base_uri": "https://localhost:8080/"
        },
        "id": "025g-b6iCU-n",
        "outputId": "2a2e5c82-7ef6-467c-b7a7-343d5ccc1d07"
      },
      "source": [
        "#write a program to print out number of non-space ( or non-whitespace) characters in sentence \r\n",
        "\r\n",
        "def get_char_count(sentnc):\r\n",
        "  sentnc=sentnc.strip()\r\n",
        "  sentnc1=sentnc.split(' ')\r\n",
        "  s=sum([len(x) for x in sentnc1])\r\n",
        "\r\n",
        "  return s\r\n",
        "\r\n",
        "get_char_count(\"    I am a test \")  "
      ],
      "execution_count": 63,
      "outputs": [
        {
          "output_type": "execute_result",
          "data": {
            "text/plain": [
              "8"
            ]
          },
          "metadata": {
            "tags": []
          },
          "execution_count": 63
        }
      ]
    },
    {
      "cell_type": "code",
      "metadata": {
        "colab": {
          "base_uri": "https://localhost:8080/"
        },
        "id": "31TXxtTLEyHk",
        "outputId": "e4133ec8-5cf3-4645-e4c4-62a8f74ea3de"
      },
      "source": [
        "#write a python program to concatenate two strings \r\n",
        "sent1='This is string1'\r\n",
        "sent2='This is string2'\r\n",
        "concat_string=sent1+sent2\r\n",
        "print(concat_string)\r\n"
      ],
      "execution_count": 64,
      "outputs": [
        {
          "output_type": "stream",
          "text": [
            "This is string1This is string2\n"
          ],
          "name": "stdout"
        }
      ]
    },
    {
      "cell_type": "code",
      "metadata": {
        "colab": {
          "base_uri": "https://localhost:8080/"
        },
        "id": "-DByNfL3FUQi",
        "outputId": "911f0ec8-b714-47a9-c2a4-7b1fb0da14da"
      },
      "source": [
        "#write a program to Replace a substring\r\n",
        "str1='This is a about cats and dogs and monkeys'\r\n",
        "str2='monkeys'\r\n",
        "str3='donkeys'\r\n",
        "str4=str1.replace(str2,str3)\r\n",
        "print(str4)"
      ],
      "execution_count": 65,
      "outputs": [
        {
          "output_type": "stream",
          "text": [
            "This is a about cats and dogs and donkeys\n"
          ],
          "name": "stdout"
        }
      ]
    }
  ]
}