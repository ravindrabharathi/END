{
  "nbformat": 4,
  "nbformat_minor": 0,
  "metadata": {
    "colab": {
      "name": "Advanced Python for General Computing & NLP.ipynb",
      "provenance": [],
      "collapsed_sections": [],
      "authorship_tag": "ABX9TyOe5lUzOAaJ3t6cpg0c9W9u",
      "include_colab_link": true
    },
    "kernelspec": {
      "name": "python3",
      "display_name": "Python 3"
    }
  },
  "cells": [
    {
      "cell_type": "markdown",
      "metadata": {
        "id": "view-in-github",
        "colab_type": "text"
      },
      "source": [
        "<a href=\"https://colab.research.google.com/github/ravindrabharathi/END/blob/ravindra/session3/Advanced_Python_for_General_Computing_and_NLP.ipynb\" target=\"_parent\"><img src=\"https://colab.research.google.com/assets/colab-badge.svg\" alt=\"Open In Colab\"/></a>"
      ]
    },
    {
      "cell_type": "markdown",
      "metadata": {
        "id": "rkjHb7fl9i_z"
      },
      "source": [
        "### Import necessary modules"
      ]
    },
    {
      "cell_type": "code",
      "metadata": {
        "id": "OeZ_NefCbOVo"
      },
      "source": [
        "import random\n",
        "import math\n",
        "import functools\n",
        "import numpy as np"
      ],
      "execution_count": 1,
      "outputs": []
    },
    {
      "cell_type": "markdown",
      "metadata": {
        "id": "K4zrZ6rKcdan"
      },
      "source": [
        "### 1. Write a function using only list filter lambda that can tell whether a number is a Fibonacci number or not. You can use a pre-calculated list/dict to store fab numbers till 10000 "
      ]
    },
    {
      "cell_type": "code",
      "metadata": {
        "id": "mZbidHNtcl_V",
        "outputId": "4653da2e-0889-4cb1-f516-70ca46bf3899",
        "colab": {
          "base_uri": "https://localhost:8080/"
        }
      },
      "source": [
        "#list of numbers upto 10000\n",
        "ll1=[x for x in range(10001)]\n",
        "\n",
        "\n",
        "# lambda function to tell if a number is fibonacci number\n",
        "is_fib=lambda x: True if (x==0 or int(math.sqrt(5*x*x + 4))**2==5*x*x + 4 or int(math.sqrt(5*x*x - 4))*int(math.sqrt(5*x*x - 4))==5*x*x - 4) else False \n",
        "\n",
        "# check if a number is fibonacci number and if so add it to a list\n",
        "l4=list(filter(is_fib, ll1))\n",
        "print(\"using the function is_fib to fill a list with fibonacci numbers till 10000:\\n\",l4)\n"
      ],
      "execution_count": 2,
      "outputs": [
        {
          "output_type": "stream",
          "text": [
            "using the function is_fib to fill a list with fibonacci numbers till 10000:\n",
            " [0, 1, 2, 3, 5, 8, 13, 21, 34, 55, 89, 144, 233, 377, 610, 987, 1597, 2584, 4181, 6765]\n"
          ],
          "name": "stdout"
        }
      ]
    },
    {
      "cell_type": "code",
      "metadata": {
        "id": "h10qnuyXs8jb",
        "outputId": "e4a70629-0b8b-40d0-b2b1-1ac43d5efaae",
        "colab": {
          "base_uri": "https://localhost:8080/"
        }
      },
      "source": [
        "print(\"using is_fib function to tell whether a given number is a fibonacci number or not:\")\n",
        "print(\"is 2 a fibonacci number? \\n\",is_fib(2))\n",
        "print(\"is 32 a fibonacci number? \\n\",is_fib(32))\n"
      ],
      "execution_count": 3,
      "outputs": [
        {
          "output_type": "stream",
          "text": [
            "using is_fib function to tell whether a given number is a fibonacci number or not:\n",
            "is 2 a fibonacci number? \n",
            " True\n",
            "is 32 a fibonacci number? \n",
            " False\n"
          ],
          "name": "stdout"
        }
      ]
    },
    {
      "cell_type": "markdown",
      "metadata": {
        "id": "4mSfQcSqlTIK"
      },
      "source": [
        "### 2. Using list comprehension (and zip/lambda/etc if required) write five different expressions that: \n",
        "\n",
        "1.add 2 iterables a and b such that a is even and b is odd\n",
        "\n",
        "2.strips every vowel from a string provided (tsai>>t s)\n",
        "\n",
        "3.acts like a ReLU function for a 1D array\n",
        "\n",
        "4.acts like a sigmoid function for a 1D array\n",
        "\n",
        "5.takes a small character string and shifts all characters by 5 (handle boundary conditions) tsai>>yxfn"
      ]
    },
    {
      "cell_type": "markdown",
      "metadata": {
        "id": "MmrIdYkl_bRX"
      },
      "source": [
        "### 1.add 2 iterables a and b such that a is even and b is odd"
      ]
    },
    {
      "cell_type": "code",
      "metadata": {
        "id": "ylgAyTT8hIpi",
        "outputId": "9c1aedda-070e-41a1-eef3-4f3751e63576",
        "colab": {
          "base_uri": "https://localhost:8080/"
        }
      },
      "source": [
        "\n",
        "\n",
        "# add a+b such that a is even , b is odd\n",
        "print('a:')\n",
        "a=[x for x in range(10) if x%2==0]\n",
        "print(a)\n",
        "print('b:')\n",
        "b=[y for y in range(10) if y%2==1]\n",
        "print(b)\n",
        "print('a+b:')\n",
        "print(np.add(a,b))\n",
        "\n",
        "### OR in a single line ## \n",
        "print('a+b:')\n",
        "print(np.add([x for x in range(10) if x%2==0] , [y for y in range(10) if y%2==1] ))\n",
        "\n",
        "\n"
      ],
      "execution_count": 4,
      "outputs": [
        {
          "output_type": "stream",
          "text": [
            "a:\n",
            "[0, 2, 4, 6, 8]\n",
            "b:\n",
            "[1, 3, 5, 7, 9]\n",
            "a+b:\n",
            "[ 1  5  9 13 17]\n",
            "a+b:\n",
            "[ 1  5  9 13 17]\n"
          ],
          "name": "stdout"
        }
      ]
    },
    {
      "cell_type": "markdown",
      "metadata": {
        "id": "J5DpyEta_d2f"
      },
      "source": [
        "### 2.strips every vowel from a string provided (tsai>>t s)"
      ]
    },
    {
      "cell_type": "code",
      "metadata": {
        "id": "brHMZG4JtMxE",
        "outputId": "f5e55704-040e-491a-88b4-5ceb9042482f",
        "colab": {
          "base_uri": "https://localhost:8080/"
        }
      },
      "source": [
        "vowels=('a','e','i','o','u')\n",
        "\n",
        "str1=\"HELLO HOW ARE YOU\"\n",
        "str2=\"Hello. How ARE YoU?\"\n",
        "print(''.join([x for x in str1 if x.lower() not in vowels ]))\n",
        "print(''.join([x for x in str2 if x.lower() not in vowels ]))\n",
        "\n"
      ],
      "execution_count": 5,
      "outputs": [
        {
          "output_type": "stream",
          "text": [
            "HLL HW R Y\n",
            "Hll. Hw R Y?\n"
          ],
          "name": "stdout"
        }
      ]
    },
    {
      "cell_type": "markdown",
      "metadata": {
        "id": "wcMIopY6_hB4"
      },
      "source": [
        "###3.acts like a ReLU function for a 1D array"
      ]
    },
    {
      "cell_type": "code",
      "metadata": {
        "id": "oKNnFI-x0lEh",
        "outputId": "0c695c31-ab32-42f5-ca06-f283109d9f4a",
        "colab": {
          "base_uri": "https://localhost:8080/"
        }
      },
      "source": [
        "lis=[0,-1,2,3,-2,5]\n",
        "\n",
        "relu=lambda x:x if x>=0 else 0\n",
        "\n",
        "print([relu(x) for x in lis])\n",
        "\n",
        "### OR ##\n",
        "\n",
        "[x if x>=0 else 0 for x in lis]"
      ],
      "execution_count": 6,
      "outputs": [
        {
          "output_type": "stream",
          "text": [
            "[0, 0, 2, 3, 0, 5]\n"
          ],
          "name": "stdout"
        },
        {
          "output_type": "execute_result",
          "data": {
            "text/plain": [
              "[0, 0, 2, 3, 0, 5]"
            ]
          },
          "metadata": {
            "tags": []
          },
          "execution_count": 6
        }
      ]
    },
    {
      "cell_type": "markdown",
      "metadata": {
        "id": "icoOzGQM_kBd"
      },
      "source": [
        "###4.acts like a sigmoid function for a 1D array"
      ]
    },
    {
      "cell_type": "code",
      "metadata": {
        "id": "7HXXPI8E12tB",
        "outputId": "5017296e-c9eb-4ffc-a6fd-195e89dea13e",
        "colab": {
          "base_uri": "https://localhost:8080/"
        }
      },
      "source": [
        "lis=[0,-1,2,3,-2,5]\n",
        "\n",
        "sigmoid=lambda x:1/(1 + math.exp(-x)) \n",
        "\n",
        "print([sigmoid(x) for x in lis])\n",
        "\n",
        "### OR ####\n",
        "\n",
        "[1/(1 + math.exp(-x)) for x in lis]"
      ],
      "execution_count": 7,
      "outputs": [
        {
          "output_type": "stream",
          "text": [
            "[0.5, 0.2689414213699951, 0.8807970779778823, 0.9525741268224334, 0.11920292202211755, 0.9933071490757153]\n"
          ],
          "name": "stdout"
        },
        {
          "output_type": "execute_result",
          "data": {
            "text/plain": [
              "[0.5,\n",
              " 0.2689414213699951,\n",
              " 0.8807970779778823,\n",
              " 0.9525741268224334,\n",
              " 0.11920292202211755,\n",
              " 0.9933071490757153]"
            ]
          },
          "metadata": {
            "tags": []
          },
          "execution_count": 7
        }
      ]
    },
    {
      "cell_type": "markdown",
      "metadata": {
        "id": "drTw14gR_oLK"
      },
      "source": [
        "###5.takes a small character string and shifts all characters by 5 (handle boundary conditions) tsai>>yxfn"
      ]
    },
    {
      "cell_type": "code",
      "metadata": {
        "id": "WIASQvtC_tTl",
        "outputId": "568e7dfe-391c-4cb0-9c85-5ea1998b3e4d",
        "colab": {
          "base_uri": "https://localhost:8080/"
        }
      },
      "source": [
        "### assumption only considering lowercase since example given is lowercase \n",
        "str1='tsaihelloxyz'\n",
        "print('original string: ',str1)\n",
        "\n",
        "shifter=lambda x:chr(ord(x)+5) if ord(x)+5 <123 else chr(96+(ord(x)+5)%122)\n",
        "\n",
        "print('shifted string : ',''.join(list(map(shifter,str1.lower()))))\n"
      ],
      "execution_count": 8,
      "outputs": [
        {
          "output_type": "stream",
          "text": [
            "original string:  tsaihelloxyz\n",
            "shifted string :  yxfnmjqqtcde\n"
          ],
          "name": "stdout"
        }
      ]
    },
    {
      "cell_type": "markdown",
      "metadata": {
        "id": "OCWFNK-A_txj"
      },
      "source": [
        "##3. A list comprehension expression that takes a ~200 word paragraph (write your own paragraph to check), and checks whether it has any of the swear words mentioned in https://github.com/RobertJGabriel/Google-profanity-words/blob/master/list.txt PTS:200"
      ]
    },
    {
      "cell_type": "code",
      "metadata": {
        "id": "SHNyOL4Ov4KG",
        "outputId": "c9dc7a04-1bf7-49da-cb98-f3ce374fd891",
        "colab": {
          "base_uri": "https://localhost:8080/"
        }
      },
      "source": [
        "!wget \"https://raw.githubusercontent.com/RobertJGabriel/Google-profanity-words/master/list.txt\""
      ],
      "execution_count": 9,
      "outputs": [
        {
          "output_type": "stream",
          "text": [
            "--2020-11-05 18:42:20--  https://raw.githubusercontent.com/RobertJGabriel/Google-profanity-words/master/list.txt\n",
            "Resolving raw.githubusercontent.com (raw.githubusercontent.com)... 151.101.0.133, 151.101.64.133, 151.101.128.133, ...\n",
            "Connecting to raw.githubusercontent.com (raw.githubusercontent.com)|151.101.0.133|:443... connected.\n",
            "HTTP request sent, awaiting response... 200 OK\n",
            "Length: 3622 (3.5K) [text/plain]\n",
            "Saving to: ‘list.txt.2’\n",
            "\n",
            "list.txt.2          100%[===================>]   3.54K  --.-KB/s    in 0s      \n",
            "\n",
            "2020-11-05 18:42:20 (32.5 MB/s) - ‘list.txt.2’ saved [3622/3622]\n",
            "\n"
          ],
          "name": "stdout"
        }
      ]
    },
    {
      "cell_type": "code",
      "metadata": {
        "id": "dSXLTx78_19G"
      },
      "source": [
        "swear_words=[]\n",
        "with open('list.txt') as file:\n",
        "  htmltxt=file.readlines()\n",
        "for line in htmltxt:\n",
        "  swear_words.append(line.strip())\n",
        "#do not print the words \n",
        "#print(swear_words)"
      ],
      "execution_count": 10,
      "outputs": []
    },
    {
      "cell_type": "code",
      "metadata": {
        "id": "JisSVvTXyZMp",
        "outputId": "08e02c53-2b06-4e8f-e348-ffa087d95d86",
        "colab": {
          "base_uri": "https://localhost:8080/"
        }
      },
      "source": [
        "#insert some swear words in a paragrah copied from newes articles  \n",
        "para=\"US Elections 2020 LIVE Updates: President Donald Trump on Wednesday falsely \"\n",
        "para= para + \"claimed that he had won the U.S. election with millions of votes still uncounted after his Democratic rival, Joe Biden, \"\n",
        "para = para+\" \"+swear_words[random.randint(10,20)] + \" \"+\"said  he was confident of winning a contest that will not be resolved until \"\n",
        "para =para +\" \"+swear_words[random.randint(100,150)] + \" \"+ \"a handful of states complete vote-counting over the next hours or days Wall Street's bugger main indexes were set to crap open \"\n",
        "para =para +\" \"+swear_words[random.randint(100,150)] + \" \"+\" sharply higher on Wednesday as the race for the White House went down to the wire, although investors remained worried about \"\n",
        "para =para +\" \"+swear_words[random.randint(150,190)] + \" \"+\"the prospect of a contested result. Republican President Donald Trump and Democratic contender Joe Biden both claimed they were on course for victory after results for a majority of states were called.\"\n",
        "para =para +\" \"+swear_words[random.randint(30,190)] + \" \"+\" Trump went further, claiming falsely that the election was being stolen from him with millions of votes still uncounted. The knife-edge election and the prospect of an acrimonious legal battle to determine the winner sent S&P\"\n",
        "para =para +\" \"+swear_words[random.randint(100,190)] + \" \"+\" e-mini futures tumbling 1.15% earlier, but they recovered to trade up Facebook Inc and Twitter Inc flagged some of President Donald Trumps posts on the U.S. election as votes were still being counted, in a real-time test of their rules on handling misinformation and premature claims of victory. Twitter also applied labels to posts by Democrat and Republican officials in the battleground states of Wisconsin and Florida, warning users that the information may be contested or inaccurate. Social media companies have been under fierce scrutiny over how they police rapidly spreading false information  election-related abuses of their platforms.\"\n",
        "print(\"Paragraph with swear words included :\\n\",para)"
      ],
      "execution_count": 11,
      "outputs": [
        {
          "output_type": "stream",
          "text": [
            "Paragraph with swear words included :\n",
            " US Elections 2020 LIVE Updates: President Donald Trump on Wednesday falsely claimed that he had won the U.S. election with millions of votes still uncounted after his Democratic rival, Joe Biden,  assfukka said  he was confident of winning a contest that will not be resolved until  cyberfuck a handful of states complete vote-counting over the next hours or days Wall Street's bugger main indexes were set to crap open  cuntlicker  sharply higher on Wednesday as the race for the White House went down to the wire, although investors remained worried about  fook the prospect of a contested result. Republican President Donald Trump and Democratic contender Joe Biden both claimed they were on course for victory after results for a majority of states were called. ejaculated  Trump went further, claiming falsely that the election was being stolen from him with millions of votes still uncounted. The knife-edge election and the prospect of an acrimonious legal battle to determine the winner sent S&P fuck  e-mini futures tumbling 1.15% earlier, but they recovered to trade up Facebook Inc and Twitter Inc flagged some of President Donald Trumps posts on the U.S. election as votes were still being counted, in a real-time test of their rules on handling misinformation and premature claims of victory. Twitter also applied labels to posts by Democrat and Republican officials in the battleground states of Wisconsin and Florida, warning users that the information may be contested or inaccurate. Social media companies have been under fierce scrutiny over how they police rapidly spreading false information  election-related abuses of their platforms.\n"
          ],
          "name": "stdout"
        }
      ]
    },
    {
      "cell_type": "code",
      "metadata": {
        "id": "4m7S05yUL8zU",
        "outputId": "408dff4c-a3ea-4fab-cb23-71f1e6ae4d99",
        "colab": {
          "base_uri": "https://localhost:8080/"
        }
      },
      "source": [
        "#list comprehension expression that finds the swear words in a paragraph \n",
        "res=[word for word in para.split(' ') if word in swear_words]\n",
        "\n",
        "print(\"Found the following swear words :\\n\",res)"
      ],
      "execution_count": 12,
      "outputs": [
        {
          "output_type": "stream",
          "text": [
            "Found the following swear words :\n",
            " ['assfukka', 'cyberfuck', 'bugger', 'crap', 'cuntlicker', 'fook', 'ejaculated', 'fuck']\n"
          ],
          "name": "stdout"
        }
      ]
    },
    {
      "cell_type": "code",
      "metadata": {
        "id": "vTDDfzGGauFI",
        "outputId": "e06010cb-171b-4225-a8bd-8c767ddc4453",
        "colab": {
          "base_uri": "https://localhost:8080/"
        }
      },
      "source": [
        "#expression that tells whether there are any swear words in the paragraph\n",
        "res=any([True if word in swear_words else False for word in para.split(' ') ])\n",
        "\n",
        "print(\"Does the paragraph contain swear words :\\n\",res)"
      ],
      "execution_count": 13,
      "outputs": [
        {
          "output_type": "stream",
          "text": [
            "Does the paragraph contain swear words :\n",
            " True\n"
          ],
          "name": "stdout"
        }
      ]
    },
    {
      "cell_type": "markdown",
      "metadata": {
        "id": "RA0lMAGk_2QP"
      },
      "source": [
        "##4. Using reduce functions: \n",
        "\n",
        "add only even numbers in a list\n",
        "\n",
        "find the biggest character in a string (printable ascii characters)\n",
        "\n",
        "adds every 3rd number in a list"
      ]
    },
    {
      "cell_type": "markdown",
      "metadata": {
        "id": "C4zRHa_k6XOt"
      },
      "source": [
        "##add only even numbers in a list"
      ]
    },
    {
      "cell_type": "code",
      "metadata": {
        "id": "D04hvpO8_8N0",
        "outputId": "031855f4-aa11-4a11-9d69-d70e0ad4a178",
        "colab": {
          "base_uri": "https://localhost:8080/"
        }
      },
      "source": [
        "# add only even numbers in a list\n",
        "# a list with numbers in the range 0-9\n",
        "l=[x for x in range(10)]\n",
        "#reduce function to add only even numbers in the list\n",
        "even_sum=functools.reduce(lambda x,y: x+y if y%2==0 else x,l)\n",
        "print(\"sum of all even numbers in list :\",even_sum)\n",
        "#verify \n",
        "print(\"check 0+2+4+6+8 :\",0+2+4+6+8)"
      ],
      "execution_count": 14,
      "outputs": [
        {
          "output_type": "stream",
          "text": [
            "sum of all even numbers in list : 20\n",
            "check 0+2+4+6+8 : 20\n"
          ],
          "name": "stdout"
        }
      ]
    },
    {
      "cell_type": "markdown",
      "metadata": {
        "id": "svRxxI546Zc5"
      },
      "source": [
        "##find the biggest character in a string (printable ascii characters)"
      ]
    },
    {
      "cell_type": "code",
      "metadata": {
        "id": "HXKemVujYG9k",
        "outputId": "606f5aff-00d1-4f83-8979-1ce95c88a456",
        "colab": {
          "base_uri": "https://localhost:8080/"
        }
      },
      "source": [
        "#find the biggest character in a string (printable ascii characters)\n",
        "str1=\"atfghyrobfewrwjhhjsfjkfa\"\n",
        "biggest_char=functools.reduce(lambda x,y: x if x>y else y,str1)\n",
        "print(\"largest character is string is : \",biggest_char)"
      ],
      "execution_count": 15,
      "outputs": [
        {
          "output_type": "stream",
          "text": [
            "largest character is string is :  y\n"
          ],
          "name": "stdout"
        }
      ]
    },
    {
      "cell_type": "markdown",
      "metadata": {
        "id": "VX3N-8bj6eht"
      },
      "source": [
        "##adds every 3rd number in a list"
      ]
    },
    {
      "cell_type": "code",
      "metadata": {
        "id": "QRe6UKMnaOtl",
        "outputId": "f32f1b3e-51fc-46c9-e338-a26ae261b66e",
        "colab": {
          "base_uri": "https://localhost:8080/"
        }
      },
      "source": [
        "#adds every 3rd number in a list\n",
        "list1=[x for x in range(100)]\n",
        "summ_of_every_third_element=functools.reduce(lambda a,b: a+b,[value for idx, value in enumerate(list1) if idx % 3 == 0])\n",
        "print(\"sum of every 3rd number in list :\",summ_of_every_third_element)"
      ],
      "execution_count": 16,
      "outputs": [
        {
          "output_type": "stream",
          "text": [
            "sum of every 3rd number in list : 1683\n"
          ],
          "name": "stdout"
        }
      ]
    },
    {
      "cell_type": "markdown",
      "metadata": {
        "id": "24dAfRq3_8fU"
      },
      "source": [
        "##5. Using randint, random.choice and list comprehensions, write an expression that generates 15 random KADDAADDDD number plates, where KA is fixed, D stands for a digit, and A stands for Capital alphabets. 10<<DD<<99 & 1000<<DDDD<<9999"
      ]
    },
    {
      "cell_type": "code",
      "metadata": {
        "id": "PTLC1ayg_9k_",
        "outputId": "927658aa-9712-4da4-b87d-c0cbd6bead24",
        "colab": {
          "base_uri": "https://localhost:8080/"
        }
      },
      "source": [
        "#lambda fn to create plate numbers\n",
        "create_plates=lambda KA,u_alpha,x1,x2,x3=10,x4=99:[KA+str(random.randint(x3,x4))+''.join(random.choices(u_alpha,k=2))+str(random.randint(x1,x2)) for _ in range(15)]\n",
        "\n",
        "k='KA'\n",
        "u_alpha=\"ABCDEFGHIJKLMNOPQRSTUVWXYZ\"\n",
        "x1=1000\n",
        "x2=9999\n",
        "\n",
        "# generate using the lambda function defined above\n",
        "list1=create_plates(k,u_alpha,x1,x2)\n",
        "print(list1)  \n",
        "print('\\n\\n')\n",
        "# generate using just a list comprhension without calling lambda function \n",
        "['KA'+str(random.randint(10,99))+''.join(random.choices(\"ABCDEFGHIJKLMNOPQRSTUVWXYZ\",k=2))+str(random.randint(1000,9999)) for _ in range(15)]\n"
      ],
      "execution_count": 17,
      "outputs": [
        {
          "output_type": "stream",
          "text": [
            "['KA69HJ1620', 'KA47NH3840', 'KA89BY4677', 'KA38VS7876', 'KA33XC3406', 'KA86WY2994', 'KA71VD1896', 'KA27JP8995', 'KA69EL3067', 'KA82IN3493', 'KA87LF2012', 'KA78RQ5126', 'KA90SN1845', 'KA87NK4942', 'KA52VQ7475']\n",
            "\n",
            "\n",
            "\n"
          ],
          "name": "stdout"
        },
        {
          "output_type": "execute_result",
          "data": {
            "text/plain": [
              "['KA83LD8565',\n",
              " 'KA91GV6883',\n",
              " 'KA54CN2165',\n",
              " 'KA11KI7539',\n",
              " 'KA14XM1118',\n",
              " 'KA55LK5782',\n",
              " 'KA45PJ3109',\n",
              " 'KA17NR7329',\n",
              " 'KA90ZY4118',\n",
              " 'KA66VH9273',\n",
              " 'KA88TH6524',\n",
              " 'KA45SM8438',\n",
              " 'KA43IB2133',\n",
              " 'KA53EU3574',\n",
              " 'KA37OF4550']"
            ]
          },
          "metadata": {
            "tags": []
          },
          "execution_count": 17
        }
      ]
    },
    {
      "cell_type": "markdown",
      "metadata": {
        "id": "SzShzZWiAA8V"
      },
      "source": [
        "## 6. Write the above again from scratch where KA can be changed to DL, and 1000/9999 ranges can be provided.  PTS:100"
      ]
    },
    {
      "cell_type": "code",
      "metadata": {
        "id": "4eKv3uuBACTB",
        "outputId": "e6cc19ba-7b9b-4f8e-e48c-bfcd73aed17e",
        "colab": {
          "base_uri": "https://localhost:8080/"
        }
      },
      "source": [
        "#lambda fn to create plate numbers\n",
        "create_plates=lambda AA,u_alpha,x1,x2,x3=10,x4=99:[AA+str(random.randint(x3,x4))+''.join(random.choices(u_alpha,k=2))+str(random.randint(x1,x2)) for _ in range(15)]\n",
        "d='DL'\n",
        "\n",
        "create_plates(d,u_alpha,x1,x2)"
      ],
      "execution_count": 18,
      "outputs": [
        {
          "output_type": "execute_result",
          "data": {
            "text/plain": [
              "['DL44KT8435',\n",
              " 'DL88HN7186',\n",
              " 'DL44DF1721',\n",
              " 'DL34WW3129',\n",
              " 'DL30OS5135',\n",
              " 'DL99JH3636',\n",
              " 'DL82XN2917',\n",
              " 'DL47GZ3953',\n",
              " 'DL66WJ2132',\n",
              " 'DL99YK9154',\n",
              " 'DL35DD4692',\n",
              " 'DL58QX9944',\n",
              " 'DL32ZR3730',\n",
              " 'DL18RV3722',\n",
              " 'DL46QV4089']"
            ]
          },
          "metadata": {
            "tags": []
          },
          "execution_count": 18
        }
      ]
    }
  ]
}