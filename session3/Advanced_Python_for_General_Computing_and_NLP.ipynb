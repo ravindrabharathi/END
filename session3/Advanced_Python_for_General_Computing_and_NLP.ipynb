{
  "nbformat": 4,
  "nbformat_minor": 0,
  "metadata": {
    "colab": {
      "name": "Advanced Python for General Computing & NLP.ipynb",
      "provenance": [],
      "collapsed_sections": [],
      "authorship_tag": "ABX9TyPrmprnWwvncRKdUD1ya0RH",
      "include_colab_link": true
    },
    "kernelspec": {
      "name": "python3",
      "display_name": "Python 3"
    }
  },
  "cells": [
    {
      "cell_type": "markdown",
      "metadata": {
        "id": "view-in-github",
        "colab_type": "text"
      },
      "source": [
        "<a href=\"https://colab.research.google.com/github/ravindrabharathi/END/blob/ravindra/session3/Advanced_Python_for_General_Computing_and_NLP.ipynb\" target=\"_parent\"><img src=\"https://colab.research.google.com/assets/colab-badge.svg\" alt=\"Open In Colab\"/></a>"
      ]
    },
    {
      "cell_type": "markdown",
      "metadata": {
        "id": "rkjHb7fl9i_z"
      },
      "source": [
        "### Import necessary modules"
      ]
    },
    {
      "cell_type": "code",
      "metadata": {
        "id": "OeZ_NefCbOVo"
      },
      "source": [
        "import random\n",
        "import math\n",
        "import functools\n",
        "import numpy as np"
      ],
      "execution_count": 1,
      "outputs": []
    },
    {
      "cell_type": "markdown",
      "metadata": {
        "id": "K4zrZ6rKcdan"
      },
      "source": [
        "### 1. Write a function using only list filter lambda that can tell whether a number is a Fibonacci number or not. You can use a pre-calculated list/dict to store fab numbers till 10000 "
      ]
    },
    {
      "cell_type": "code",
      "metadata": {
        "id": "mZbidHNtcl_V",
        "outputId": "b982d081-b487-43bf-a618-31431fdc6293",
        "colab": {
          "base_uri": "https://localhost:8080/"
        }
      },
      "source": [
        "#list of numbers upto 10000\n",
        "ll1=[x for x in range(10001)]\n",
        "\n",
        "\n",
        "# lambda function to tell if a number is fibonacci number\n",
        "is_fib2=lambda x: True if (x==0 or int(math.sqrt(5*x*x + 4))**2==5*x*x + 4 or int(math.sqrt(5*x*x - 4))*int(math.sqrt(5*x*x - 4))==5*x*x - 4) else False \n",
        "\n",
        "# check if a number is fibonacci number and if so add it to a list\n",
        "l4=list(filter(is_fib2, ll1))\n",
        "print(\"fibonacci numbers till 10000:\\n\",l4)\n"
      ],
      "execution_count": 2,
      "outputs": [
        {
          "output_type": "stream",
          "text": [
            "fibonacci numbers till 10000:\n",
            " [0, 1, 2, 3, 5, 8, 13, 21, 34, 55, 89, 144, 233, 377, 610, 987, 1597, 2584, 4181, 6765]\n"
          ],
          "name": "stdout"
        }
      ]
    },
    {
      "cell_type": "markdown",
      "metadata": {
        "id": "4mSfQcSqlTIK"
      },
      "source": [
        "### 2. Using list comprehension (and zip/lambda/etc if required) write five different expressions that: \n",
        "\n",
        "1.add 2 iterables a and b such that a is even and b is odd\n",
        "\n",
        "2.strips every vowel from a string provided (tsai>>t s)\n",
        "\n",
        "3.acts like a ReLU function for a 1D array\n",
        "\n",
        "4.acts like a sigmoid function for a 1D array\n",
        "\n",
        "5.takes a small character string and shifts all characters by 5 (handle boundary conditions) tsai>>yxfn"
      ]
    },
    {
      "cell_type": "markdown",
      "metadata": {
        "id": "MmrIdYkl_bRX"
      },
      "source": [
        "### 1.add 2 iterables a and b such that a is even and b is odd"
      ]
    },
    {
      "cell_type": "code",
      "metadata": {
        "id": "ylgAyTT8hIpi",
        "outputId": "0d76c062-449d-4a42-ae9f-4d564c9213f3",
        "colab": {
          "base_uri": "https://localhost:8080/"
        }
      },
      "source": [
        "\n",
        "\n",
        "# add a+b such that a is even , b is odd\n",
        "print('a:')\n",
        "a=[x for x in range(10) if x%2==0]\n",
        "print(a)\n",
        "print('b:')\n",
        "b=[y for y in range(10) if y%2==1]\n",
        "print(b)\n",
        "print('a+b:')\n",
        "print(np.add(a,b))\n",
        "\n",
        "### OR in a single line ## \n",
        "print('a+b:')\n",
        "print(np.add([x for x in range(10) if x%2==0] , [y for y in range(10) if y%2==1] ))\n",
        "\n",
        "\n"
      ],
      "execution_count": 3,
      "outputs": [
        {
          "output_type": "stream",
          "text": [
            "a:\n",
            "[0, 2, 4, 6, 8]\n",
            "b:\n",
            "[1, 3, 5, 7, 9]\n",
            "a+b:\n",
            "[ 1  5  9 13 17]\n",
            "a+b:\n",
            "[ 1  5  9 13 17]\n"
          ],
          "name": "stdout"
        }
      ]
    },
    {
      "cell_type": "markdown",
      "metadata": {
        "id": "J5DpyEta_d2f"
      },
      "source": [
        "### 2.strips every vowel from a string provided (tsai>>t s)"
      ]
    },
    {
      "cell_type": "code",
      "metadata": {
        "id": "brHMZG4JtMxE",
        "outputId": "591eff38-b651-4c95-fb7c-eafe6c7a29f9",
        "colab": {
          "base_uri": "https://localhost:8080/"
        }
      },
      "source": [
        "vowels=('a','e','i','o','u')\n",
        "\n",
        "str1=\"HELLO HOW ARE YOU\"\n",
        "str2=\"Hello. How ARE YoU?\"\n",
        "print(''.join([x for x in str1 if x.lower() not in vowels ]))\n",
        "print(''.join([x for x in str2 if x.lower() not in vowels ]))\n",
        "\n"
      ],
      "execution_count": 4,
      "outputs": [
        {
          "output_type": "stream",
          "text": [
            "HLL HW R Y\n",
            "Hll. Hw R Y?\n"
          ],
          "name": "stdout"
        }
      ]
    },
    {
      "cell_type": "markdown",
      "metadata": {
        "id": "wcMIopY6_hB4"
      },
      "source": [
        "###3.acts like a ReLU function for a 1D array"
      ]
    },
    {
      "cell_type": "code",
      "metadata": {
        "id": "oKNnFI-x0lEh",
        "outputId": "e879d212-73cc-48d7-be4d-4a48f7bd543c",
        "colab": {
          "base_uri": "https://localhost:8080/"
        }
      },
      "source": [
        "lis=[0,-1,2,3,-2,5]\n",
        "\n",
        "relu=lambda x:x if x>=0 else 0\n",
        "\n",
        "print([relu(x) for x in lis])\n",
        "\n",
        "### OR ##\n",
        "\n",
        "[x if x>=0 else 0 for x in lis]"
      ],
      "execution_count": 5,
      "outputs": [
        {
          "output_type": "stream",
          "text": [
            "[0, 0, 2, 3, 0, 5]\n"
          ],
          "name": "stdout"
        },
        {
          "output_type": "execute_result",
          "data": {
            "text/plain": [
              "[0, 0, 2, 3, 0, 5]"
            ]
          },
          "metadata": {
            "tags": []
          },
          "execution_count": 5
        }
      ]
    },
    {
      "cell_type": "markdown",
      "metadata": {
        "id": "icoOzGQM_kBd"
      },
      "source": [
        "###4.acts like a sigmoid function for a 1D array"
      ]
    },
    {
      "cell_type": "code",
      "metadata": {
        "id": "7HXXPI8E12tB",
        "outputId": "5851a9ad-9f6d-42e3-f3df-2f16c6554c96",
        "colab": {
          "base_uri": "https://localhost:8080/"
        }
      },
      "source": [
        "lis=[0,-1,2,3,-2,5]\n",
        "\n",
        "sigmoid=lambda x:1/(1 + math.exp(-x)) \n",
        "\n",
        "print([sigmoid(x) for x in lis])\n",
        "\n",
        "### OR ####\n",
        "\n",
        "[1/(1 + math.exp(-x)) for x in lis]"
      ],
      "execution_count": 6,
      "outputs": [
        {
          "output_type": "stream",
          "text": [
            "[0.5, 0.2689414213699951, 0.8807970779778823, 0.9525741268224334, 0.11920292202211755, 0.9933071490757153]\n"
          ],
          "name": "stdout"
        },
        {
          "output_type": "execute_result",
          "data": {
            "text/plain": [
              "[0.5,\n",
              " 0.2689414213699951,\n",
              " 0.8807970779778823,\n",
              " 0.9525741268224334,\n",
              " 0.11920292202211755,\n",
              " 0.9933071490757153]"
            ]
          },
          "metadata": {
            "tags": []
          },
          "execution_count": 6
        }
      ]
    },
    {
      "cell_type": "markdown",
      "metadata": {
        "id": "drTw14gR_oLK"
      },
      "source": [
        "###5.takes a small character string and shifts all characters by 5 (handle boundary conditions) tsai>>yxfn"
      ]
    },
    {
      "cell_type": "code",
      "metadata": {
        "id": "WIASQvtC_tTl",
        "outputId": "e625a808-e922-450e-cef1-40f1b3c113cd",
        "colab": {
          "base_uri": "https://localhost:8080/"
        }
      },
      "source": [
        "### assumption only considering lowercase since example given is lowercase \n",
        "str1='tsaihelloxyz'\n",
        "print('original string: ',str1)\n",
        "\n",
        "shifter=lambda x:chr(ord(x)+5) if ord(x)+5 <123 else chr(96+(ord(x)+5)%122)\n",
        "\n",
        "print('shifted string : ',''.join(list(map(shifter,str1.lower()))))\n"
      ],
      "execution_count": 7,
      "outputs": [
        {
          "output_type": "stream",
          "text": [
            "original string:  tsaihelloxyz\n",
            "shifted string :  yxfnmjqqtcde\n"
          ],
          "name": "stdout"
        }
      ]
    },
    {
      "cell_type": "markdown",
      "metadata": {
        "id": "OCWFNK-A_txj"
      },
      "source": [
        "##3. A list comprehension expression that takes a ~200 word paragraph (write your own paragraph to check), and checks whether it has any of the swear words mentioned in https://github.com/RobertJGabriel/Google-profanity-words/blob/master/list.txt PTS:200"
      ]
    },
    {
      "cell_type": "code",
      "metadata": {
        "id": "SHNyOL4Ov4KG",
        "outputId": "6d5c63ba-ee94-4229-ed3b-8ac9818e01fd",
        "colab": {
          "base_uri": "https://localhost:8080/"
        }
      },
      "source": [
        "!wget \"https://raw.githubusercontent.com/RobertJGabriel/Google-profanity-words/master/list.txt\""
      ],
      "execution_count": 8,
      "outputs": [
        {
          "output_type": "stream",
          "text": [
            "--2020-11-05 18:29:59--  https://raw.githubusercontent.com/RobertJGabriel/Google-profanity-words/master/list.txt\n",
            "Resolving raw.githubusercontent.com (raw.githubusercontent.com)... 151.101.0.133, 151.101.64.133, 151.101.128.133, ...\n",
            "Connecting to raw.githubusercontent.com (raw.githubusercontent.com)|151.101.0.133|:443... connected.\n",
            "HTTP request sent, awaiting response... 200 OK\n",
            "Length: 3622 (3.5K) [text/plain]\n",
            "Saving to: ‘list.txt.1’\n",
            "\n",
            "list.txt.1          100%[===================>]   3.54K  --.-KB/s    in 0s      \n",
            "\n",
            "2020-11-05 18:29:59 (59.4 MB/s) - ‘list.txt.1’ saved [3622/3622]\n",
            "\n"
          ],
          "name": "stdout"
        }
      ]
    },
    {
      "cell_type": "code",
      "metadata": {
        "id": "dSXLTx78_19G"
      },
      "source": [
        "swear_words=[]\n",
        "with open('list.txt') as file:\n",
        "  htmltxt=file.readlines()\n",
        "for line in htmltxt:\n",
        "  swear_words.append(line.strip())\n",
        "#do not print the words \n",
        "#print(swear_words)"
      ],
      "execution_count": 9,
      "outputs": []
    },
    {
      "cell_type": "code",
      "metadata": {
        "id": "JisSVvTXyZMp",
        "outputId": "f58698f2-2204-4595-90da-0d10738c2fb2",
        "colab": {
          "base_uri": "https://localhost:8080/"
        }
      },
      "source": [
        "#insert some swear words in a paragrah copied from newes articles  \n",
        "para=\"US Elections 2020 LIVE Updates: President Donald Trump on Wednesday falsely \"\n",
        "para= para + \"claimed that he had won the U.S. election with millions of votes still uncounted after his Democratic rival, Joe Biden, \"\n",
        "para = para+\" \"+swear_words[random.randint(10,20)] + \" \"+\"said  he was confident of winning a contest that will not be resolved until \"\n",
        "para =para +\" \"+swear_words[random.randint(100,150)] + \" \"+ \"a handful of states complete vote-counting over the next hours or days Wall Street's bugger main indexes were set to crap open \"\n",
        "para =para +\" \"+swear_words[random.randint(100,150)] + \" \"+\" sharply higher on Wednesday as the race for the White House went down to the wire, although investors remained worried about \"\n",
        "para =para +\" \"+swear_words[random.randint(150,190)] + \" \"+\"the prospect of a contested result. Republican President Donald Trump and Democratic contender Joe Biden both claimed they were on course for victory after results for a majority of states were called.\"\n",
        "para =para +\" \"+swear_words[random.randint(30,190)] + \" \"+\" Trump went further, claiming falsely that the election was being stolen from him with millions of votes still uncounted. The knife-edge election and the prospect of an acrimonious legal battle to determine the winner sent S&P\"\n",
        "para =para +\" \"+swear_words[random.randint(100,190)] + \" \"+\" e-mini futures tumbling 1.15% earlier, but they recovered to trade up Facebook Inc and Twitter Inc flagged some of President Donald Trumps posts on the U.S. election as votes were still being counted, in a real-time test of their rules on handling misinformation and premature claims of victory. Twitter also applied labels to posts by Democrat and Republican officials in the battleground states of Wisconsin and Florida, warning users that the information may be contested or inaccurate. Social media companies have been under fierce scrutiny over how they police rapidly spreading false information  election-related abuses of their platforms.\"\n",
        "print(\"Paragraph with swear words included :\\n\",para)"
      ],
      "execution_count": 10,
      "outputs": [
        {
          "output_type": "stream",
          "text": [
            "Paragraph with swear words included :\n",
            " US Elections 2020 LIVE Updates: President Donald Trump on Wednesday falsely claimed that he had won the U.S. election with millions of votes still uncounted after his Democratic rival, Joe Biden,  assfucker said  he was confident of winning a contest that will not be resolved until  duche a handful of states complete vote-counting over the next hours or days Wall Street's bugger main indexes were set to crap open  fannyfucker  sharply higher on Wednesday as the race for the White House went down to the wire, although investors remained worried about  fistfuck the prospect of a contested result. Republican President Donald Trump and Democratic contender Joe Biden both claimed they were on course for victory after results for a majority of states were called. cunts  Trump went further, claiming falsely that the election was being stolen from him with millions of votes still uncounted. The knife-edge election and the prospect of an acrimonious legal battle to determine the winner sent S&P f4nny  e-mini futures tumbling 1.15% earlier, but they recovered to trade up Facebook Inc and Twitter Inc flagged some of President Donald Trumps posts on the U.S. election as votes were still being counted, in a real-time test of their rules on handling misinformation and premature claims of victory. Twitter also applied labels to posts by Democrat and Republican officials in the battleground states of Wisconsin and Florida, warning users that the information may be contested or inaccurate. Social media companies have been under fierce scrutiny over how they police rapidly spreading false information  election-related abuses of their platforms.\n"
          ],
          "name": "stdout"
        }
      ]
    },
    {
      "cell_type": "code",
      "metadata": {
        "id": "4m7S05yUL8zU",
        "outputId": "61bab1ba-e7f2-40c2-e5d4-cfff29c3284a",
        "colab": {
          "base_uri": "https://localhost:8080/"
        }
      },
      "source": [
        "#list comprehension expression that finds the swear words in a paragraph \n",
        "res=[word for word in para.split(' ') if word in swear_words]\n",
        "\n",
        "print(\"Found the following swear words :\\n\",res)"
      ],
      "execution_count": 11,
      "outputs": [
        {
          "output_type": "stream",
          "text": [
            "Found the following swear words :\n",
            " ['assfucker', 'duche', 'bugger', 'crap', 'fannyfucker', 'fistfuck', 'cunts', 'f4nny']\n"
          ],
          "name": "stdout"
        }
      ]
    },
    {
      "cell_type": "code",
      "metadata": {
        "id": "vTDDfzGGauFI",
        "outputId": "a3b7654b-ef80-4cd2-ada6-43c913451ac5",
        "colab": {
          "base_uri": "https://localhost:8080/"
        }
      },
      "source": [
        "#expression that tells whether there are any swear words in the paragraph\n",
        "res=any([True if word in swear_words else False for word in para.split(' ') ])\n",
        "\n",
        "print(\"Does the paragraph contain swear words :\\n\",res)"
      ],
      "execution_count": 12,
      "outputs": [
        {
          "output_type": "stream",
          "text": [
            "Does the paragraph contain swear words :\n",
            " True\n"
          ],
          "name": "stdout"
        }
      ]
    },
    {
      "cell_type": "markdown",
      "metadata": {
        "id": "RA0lMAGk_2QP"
      },
      "source": [
        "##4. Using reduce functions: \n",
        "\n",
        "add only even numbers in a list\n",
        "\n",
        "find the biggest character in a string (printable ascii characters)\n",
        "\n",
        "adds every 3rd number in a list"
      ]
    },
    {
      "cell_type": "markdown",
      "metadata": {
        "id": "C4zRHa_k6XOt"
      },
      "source": [
        "##add only even numbers in a list"
      ]
    },
    {
      "cell_type": "code",
      "metadata": {
        "id": "D04hvpO8_8N0",
        "outputId": "0ca0c5f9-ffca-4fff-8d7c-a0cd51ae5530",
        "colab": {
          "base_uri": "https://localhost:8080/"
        }
      },
      "source": [
        "# add only even numbers in a list\n",
        "# a list with numbers in the range 0-9\n",
        "l=[x for x in range(10)]\n",
        "#reduce function to add only even numbers in the list\n",
        "even_sum=functools.reduce(lambda x,y: x+y if y%2==0 else x,l)\n",
        "print(\"sum of all even numbers in list :\",even_sum)\n",
        "#verify \n",
        "print(\"check 0+2+4+6+8 :\",0+2+4+6+8)"
      ],
      "execution_count": 13,
      "outputs": [
        {
          "output_type": "stream",
          "text": [
            "sum of all even numbers in list : 20\n",
            "check 0+2+4+6+8 : 20\n"
          ],
          "name": "stdout"
        }
      ]
    },
    {
      "cell_type": "markdown",
      "metadata": {
        "id": "svRxxI546Zc5"
      },
      "source": [
        "##find the biggest character in a string (printable ascii characters)"
      ]
    },
    {
      "cell_type": "code",
      "metadata": {
        "id": "HXKemVujYG9k",
        "outputId": "e4ef43ca-115e-4199-849c-7b1247a1165e",
        "colab": {
          "base_uri": "https://localhost:8080/"
        }
      },
      "source": [
        "#find the biggest character in a string (printable ascii characters)\n",
        "str1=\"atfghyrobfewrwjhhjsfjkfa\"\n",
        "biggest_char=functools.reduce(lambda x,y: x if x>y else y,str1)\n",
        "print(\"largest character is string is : \",biggest_char)"
      ],
      "execution_count": 14,
      "outputs": [
        {
          "output_type": "stream",
          "text": [
            "largest character is string is :  y\n"
          ],
          "name": "stdout"
        }
      ]
    },
    {
      "cell_type": "markdown",
      "metadata": {
        "id": "VX3N-8bj6eht"
      },
      "source": [
        "##adds every 3rd number in a list"
      ]
    },
    {
      "cell_type": "code",
      "metadata": {
        "id": "QRe6UKMnaOtl",
        "outputId": "81fbadf0-cff4-4bc7-cf75-38c9f670c811",
        "colab": {
          "base_uri": "https://localhost:8080/"
        }
      },
      "source": [
        "#adds every 3rd number in a list\n",
        "list1=[x for x in range(100)]\n",
        "summ_of_every_third_element=functools.reduce(lambda a,b: a+b,[value for idx, value in enumerate(list1) if idx % 3 == 0])\n",
        "print(\"sum of every 3rd number in list :\",summ_of_every_third_element)"
      ],
      "execution_count": 15,
      "outputs": [
        {
          "output_type": "stream",
          "text": [
            "sum of every 3rd number in list : 1683\n"
          ],
          "name": "stdout"
        }
      ]
    },
    {
      "cell_type": "markdown",
      "metadata": {
        "id": "24dAfRq3_8fU"
      },
      "source": [
        "##5. Using randint, random.choice and list comprehensions, write an expression that generates 15 random KADDAADDDD number plates, where KA is fixed, D stands for a digit, and A stands for Capital alphabets. 10<<DD<<99 & 1000<<DDDD<<9999"
      ]
    },
    {
      "cell_type": "code",
      "metadata": {
        "id": "PTLC1ayg_9k_",
        "outputId": "2c59b989-8161-4df5-b806-6acfef48b11e",
        "colab": {
          "base_uri": "https://localhost:8080/"
        }
      },
      "source": [
        "#lambda fn to create plate numbers\n",
        "create_plates=lambda KA,u_alpha,x1,x2,x3=10,x4=99:[KA+str(random.randint(x3,x4))+''.join(random.choices(u_alpha,k=2))+str(random.randint(x1,x2)) for _ in range(15)]\n",
        "\n",
        "k='KA'\n",
        "u_alpha=\"ABCDEFGHIJKLMNOPQRSTUVWXYZ\"\n",
        "x1=1000\n",
        "x2=9999\n",
        "\n",
        "# generate using the lambda function defined above\n",
        "list1=create_plates(k,u_alpha,x1,x2)\n",
        "print(list1)  \n",
        "print('\\n\\n')\n",
        "# generate using just a list comprhension without calling lambda function \n",
        "['KA'+str(random.randint(10,99))+''.join(random.choices(\"ABCDEFGHIJKLMNOPQRSTUVWXYZ\",k=2))+str(random.randint(1000,9999)) for _ in range(15)]\n"
      ],
      "execution_count": 16,
      "outputs": [
        {
          "output_type": "stream",
          "text": [
            "['KA21RD3341', 'KA82RM8922', 'KA18MO9556', 'KA64WS3626', 'KA81FH4961', 'KA19MQ2780', 'KA90YC6586', 'KA34JW1058', 'KA14HD4471', 'KA66PM3182', 'KA72HD8152', 'KA10YA9340', 'KA99QV6279', 'KA15EN5383', 'KA81BU3223']\n",
            "\n",
            "\n",
            "\n"
          ],
          "name": "stdout"
        },
        {
          "output_type": "execute_result",
          "data": {
            "text/plain": [
              "['KA89IO6861',\n",
              " 'KA53ET4636',\n",
              " 'KA73XQ4127',\n",
              " 'KA48CJ5428',\n",
              " 'KA10UO9886',\n",
              " 'KA43JW6260',\n",
              " 'KA38ES8448',\n",
              " 'KA93MF2969',\n",
              " 'KA66PG4922',\n",
              " 'KA13XM9077',\n",
              " 'KA83SI1555',\n",
              " 'KA98BQ6065',\n",
              " 'KA37ET6035',\n",
              " 'KA92MW8634',\n",
              " 'KA41QJ1283']"
            ]
          },
          "metadata": {
            "tags": []
          },
          "execution_count": 16
        }
      ]
    },
    {
      "cell_type": "markdown",
      "metadata": {
        "id": "SzShzZWiAA8V"
      },
      "source": [
        "## 6. Write the above again from scratch where KA can be changed to DL, and 1000/9999 ranges can be provided.  PTS:100"
      ]
    },
    {
      "cell_type": "code",
      "metadata": {
        "id": "4eKv3uuBACTB",
        "outputId": "8e07bee1-5771-44ec-d4ef-aef5d7995f87",
        "colab": {
          "base_uri": "https://localhost:8080/"
        }
      },
      "source": [
        "#lambda fn to create plate numbers\n",
        "create_plates=lambda AA,u_alpha,x1,x2,x3=10,x4=99:[AA+str(random.randint(x3,x4))+''.join(random.choices(u_alpha,k=2))+str(random.randint(x1,x2)) for _ in range(15)]\n",
        "d='DL'\n",
        "\n",
        "create_plates(d,u_alpha,x1,x2)"
      ],
      "execution_count": 17,
      "outputs": [
        {
          "output_type": "execute_result",
          "data": {
            "text/plain": [
              "['DL70JM4627',\n",
              " 'DL96QR1731',\n",
              " 'DL60KF9323',\n",
              " 'DL23DQ3186',\n",
              " 'DL87YZ6934',\n",
              " 'DL55ZG5551',\n",
              " 'DL42DX1414',\n",
              " 'DL63PO9786',\n",
              " 'DL85YE5221',\n",
              " 'DL33NX8224',\n",
              " 'DL36XF4239',\n",
              " 'DL76BW7840',\n",
              " 'DL37EH8468',\n",
              " 'DL87JC7932',\n",
              " 'DL53VF2332']"
            ]
          },
          "metadata": {
            "tags": []
          },
          "execution_count": 17
        }
      ]
    }
  ]
}