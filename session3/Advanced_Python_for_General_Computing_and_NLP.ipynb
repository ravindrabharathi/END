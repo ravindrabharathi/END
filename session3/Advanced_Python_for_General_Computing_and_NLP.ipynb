{
  "nbformat": 4,
  "nbformat_minor": 0,
  "metadata": {
    "colab": {
      "name": "Advanced Python for General Computing & NLP.ipynb",
      "provenance": [],
      "collapsed_sections": [],
      "authorship_tag": "ABX9TyNIPgFV11mKPiTGggWxBI8T",
      "include_colab_link": true
    },
    "kernelspec": {
      "name": "python3",
      "display_name": "Python 3"
    }
  },
  "cells": [
    {
      "cell_type": "markdown",
      "metadata": {
        "id": "view-in-github",
        "colab_type": "text"
      },
      "source": [
        "<a href=\"https://colab.research.google.com/github/ravindrabharathi/END/blob/ravindra/session3/Advanced_Python_for_General_Computing_and_NLP.ipynb\" target=\"_parent\"><img src=\"https://colab.research.google.com/assets/colab-badge.svg\" alt=\"Open In Colab\"/></a>"
      ]
    },
    {
      "cell_type": "markdown",
      "metadata": {
        "id": "rkjHb7fl9i_z"
      },
      "source": [
        "### Import necessary modules"
      ]
    },
    {
      "cell_type": "code",
      "metadata": {
        "id": "OeZ_NefCbOVo"
      },
      "source": [
        "import random\n",
        "import math\n",
        "import functools\n",
        "import numpy as np"
      ],
      "execution_count": 1,
      "outputs": []
    },
    {
      "cell_type": "markdown",
      "metadata": {
        "id": "K4zrZ6rKcdan"
      },
      "source": [
        "### 1. Write a function using only list filter lambda that can tell whether a number is a Fibonacci number or not. You can use a pre-calculated list/dict to store fab numbers till 10000 "
      ]
    },
    {
      "cell_type": "code",
      "metadata": {
        "id": "mZbidHNtcl_V",
        "outputId": "bee7d322-6672-4a6a-a02a-eefeffe6505c",
        "colab": {
          "base_uri": "https://localhost:8080/"
        }
      },
      "source": [
        "#list of numbers upto 10000\n",
        "ll1=[x for x in range(10001)]\n",
        "\n",
        "\n",
        "# lambda function to tell if a number is fibonacci number\n",
        "is_fib2=lambda x: True if (x==0 or int(math.sqrt(5*x*x + 4))**2==5*x*x + 4 or int(math.sqrt(5*x*x - 4))*int(math.sqrt(5*x*x - 4))==5*x*x - 4) else False \n",
        "\n",
        "# check if a number is fibonacci number and if so add it to a list\n",
        "l4=list(filter(is_fib2, ll1))\n",
        "print(\"fibonacci numbers till 10000:\\n\",l4)\n"
      ],
      "execution_count": 2,
      "outputs": [
        {
          "output_type": "stream",
          "text": [
            "fibonacci numbers till 10000:\n",
            " [0, 1, 2, 3, 5, 8, 13, 21, 34, 55, 89, 144, 233, 377, 610, 987, 1597, 2584, 4181, 6765]\n"
          ],
          "name": "stdout"
        }
      ]
    },
    {
      "cell_type": "markdown",
      "metadata": {
        "id": "4mSfQcSqlTIK"
      },
      "source": [
        "### 2. Using list comprehension (and zip/lambda/etc if required) write five different expressions that: \n",
        "\n",
        "1.add 2 iterables a and b such that a is even and b is odd\n",
        "\n",
        "2.strips every vowel from a string provided (tsai>>t s)\n",
        "\n",
        "3.acts like a ReLU function for a 1D array\n",
        "\n",
        "4.acts like a sigmoid function for a 1D array\n",
        "\n",
        "5.takes a small character string and shifts all characters by 5 (handle boundary conditions) tsai>>yxfn"
      ]
    },
    {
      "cell_type": "markdown",
      "metadata": {
        "id": "MmrIdYkl_bRX"
      },
      "source": [
        "### 1.add 2 iterables a and b such that a is even and b is odd"
      ]
    },
    {
      "cell_type": "code",
      "metadata": {
        "id": "ylgAyTT8hIpi",
        "outputId": "7df4b796-76fc-4aa4-a391-bc296d27279e",
        "colab": {
          "base_uri": "https://localhost:8080/"
        }
      },
      "source": [
        "\n",
        "\n",
        "# add a+b such that a is even , b is odd\n",
        "print('a:')\n",
        "a=[x for x in range(10) if x%2==0]\n",
        "print(a)\n",
        "print('b:')\n",
        "b=[y for y in range(10) if y%2==1]\n",
        "print(b)\n",
        "print('a+b:')\n",
        "print(np.add(a,b))\n",
        "\n",
        "### OR in a single line ## \n",
        "print('a+b:')\n",
        "print(np.add([x for x in range(10) if x%2==0] , [y for y in range(10) if y%2==1] ))\n",
        "\n",
        "\n"
      ],
      "execution_count": 3,
      "outputs": [
        {
          "output_type": "stream",
          "text": [
            "a:\n",
            "[0, 2, 4, 6, 8]\n",
            "b:\n",
            "[1, 3, 5, 7, 9]\n",
            "a+b:\n",
            "[ 1  5  9 13 17]\n",
            "a+b:\n",
            "[ 1  5  9 13 17]\n"
          ],
          "name": "stdout"
        }
      ]
    },
    {
      "cell_type": "markdown",
      "metadata": {
        "id": "J5DpyEta_d2f"
      },
      "source": [
        "### 2.strips every vowel from a string provided (tsai>>t s)"
      ]
    },
    {
      "cell_type": "code",
      "metadata": {
        "id": "brHMZG4JtMxE",
        "outputId": "168239a8-da1d-4e8e-c96a-d140829943d5",
        "colab": {
          "base_uri": "https://localhost:8080/"
        }
      },
      "source": [
        "vowels=('a','e','i','o','u')\n",
        "\n",
        "str1=\"HELLO HOW ARE YOU\"\n",
        "str2=\"Hello. How ARE YoU?\"\n",
        "print(''.join([x for x in str1 if x.lower() not in vowels ]))\n",
        "print(''.join([x for x in str2 if x.lower() not in vowels ]))\n",
        "\n"
      ],
      "execution_count": 4,
      "outputs": [
        {
          "output_type": "stream",
          "text": [
            "HLL HW R Y\n",
            "Hll. Hw R Y?\n"
          ],
          "name": "stdout"
        }
      ]
    },
    {
      "cell_type": "markdown",
      "metadata": {
        "id": "wcMIopY6_hB4"
      },
      "source": [
        "###3.acts like a ReLU function for a 1D array"
      ]
    },
    {
      "cell_type": "code",
      "metadata": {
        "id": "oKNnFI-x0lEh",
        "outputId": "22e64192-196f-46f2-dac6-83921c02a02e",
        "colab": {
          "base_uri": "https://localhost:8080/"
        }
      },
      "source": [
        "lis=[0,-1,2,3,-2,5]\n",
        "\n",
        "relu=lambda x:x if x>=0 else 0\n",
        "\n",
        "print([relu(x) for x in lis])\n",
        "\n",
        "### OR ##\n",
        "\n",
        "[x if x>=0 else 0 for x in lis]"
      ],
      "execution_count": 5,
      "outputs": [
        {
          "output_type": "stream",
          "text": [
            "[0, 0, 2, 3, 0, 5]\n"
          ],
          "name": "stdout"
        },
        {
          "output_type": "execute_result",
          "data": {
            "text/plain": [
              "[0, 0, 2, 3, 0, 5]"
            ]
          },
          "metadata": {
            "tags": []
          },
          "execution_count": 5
        }
      ]
    },
    {
      "cell_type": "markdown",
      "metadata": {
        "id": "icoOzGQM_kBd"
      },
      "source": [
        "###4.acts like a sigmoid function for a 1D array"
      ]
    },
    {
      "cell_type": "code",
      "metadata": {
        "id": "7HXXPI8E12tB",
        "outputId": "08e85366-b84c-43da-806a-3d213afd456b",
        "colab": {
          "base_uri": "https://localhost:8080/"
        }
      },
      "source": [
        "lis=[0,-1,2,3,-2,5]\n",
        "\n",
        "sigmoid=lambda x:1/(1 + math.exp(-x)) \n",
        "\n",
        "print([sigmoid(x) for x in lis])\n",
        "\n",
        "### OR ####\n",
        "\n",
        "[1/(1 + math.exp(-x)) for x in lis]"
      ],
      "execution_count": 6,
      "outputs": [
        {
          "output_type": "stream",
          "text": [
            "[0.5, 0.2689414213699951, 0.8807970779778823, 0.9525741268224334, 0.11920292202211755, 0.9933071490757153]\n"
          ],
          "name": "stdout"
        },
        {
          "output_type": "execute_result",
          "data": {
            "text/plain": [
              "[0.5,\n",
              " 0.2689414213699951,\n",
              " 0.8807970779778823,\n",
              " 0.9525741268224334,\n",
              " 0.11920292202211755,\n",
              " 0.9933071490757153]"
            ]
          },
          "metadata": {
            "tags": []
          },
          "execution_count": 6
        }
      ]
    },
    {
      "cell_type": "markdown",
      "metadata": {
        "id": "drTw14gR_oLK"
      },
      "source": [
        "###5.takes a small character string and shifts all characters by 5 (handle boundary conditions) tsai>>yxfn"
      ]
    },
    {
      "cell_type": "code",
      "metadata": {
        "id": "WIASQvtC_tTl",
        "outputId": "a258d9ef-126b-411d-ca38-c2c7b60461f9",
        "colab": {
          "base_uri": "https://localhost:8080/"
        }
      },
      "source": [
        "### assumption only considering lowercase since example given is lowercase \n",
        "str1='tsaihelloxyz'\n",
        "print('original string: ',str1)\n",
        "\n",
        "shifter=lambda x:chr(ord(x)+5) if ord(x)+5 <123 else chr(96+(ord(x)+5)%122)\n",
        "\n",
        "print('shifted string : ',''.join(list(map(shifter,str1.lower()))))\n"
      ],
      "execution_count": 7,
      "outputs": [
        {
          "output_type": "stream",
          "text": [
            "original string:  tsaihelloxyz\n",
            "shifted string :  yxfnmjqqtcde\n"
          ],
          "name": "stdout"
        }
      ]
    },
    {
      "cell_type": "markdown",
      "metadata": {
        "id": "OCWFNK-A_txj"
      },
      "source": [
        "##3. A list comprehension expression that takes a ~200 word paragraph (write your own paragraph to check), and checks whether it has any of the swear words mentioned in https://github.com/RobertJGabriel/Google-profanity-words/blob/master/list.txt PTS:200"
      ]
    },
    {
      "cell_type": "code",
      "metadata": {
        "id": "SHNyOL4Ov4KG",
        "outputId": "62e7cdb8-1341-4613-cbfe-6513910f85e5",
        "colab": {
          "base_uri": "https://localhost:8080/"
        }
      },
      "source": [
        "!wget \"https://raw.githubusercontent.com/RobertJGabriel/Google-profanity-words/master/list.txt\""
      ],
      "execution_count": 8,
      "outputs": [
        {
          "output_type": "stream",
          "text": [
            "--2020-11-05 18:22:30--  https://raw.githubusercontent.com/RobertJGabriel/Google-profanity-words/master/list.txt\n",
            "Resolving raw.githubusercontent.com (raw.githubusercontent.com)... 151.101.0.133, 151.101.64.133, 151.101.128.133, ...\n",
            "Connecting to raw.githubusercontent.com (raw.githubusercontent.com)|151.101.0.133|:443... connected.\n",
            "HTTP request sent, awaiting response... 200 OK\n",
            "Length: 3622 (3.5K) [text/plain]\n",
            "Saving to: ‘list.txt’\n",
            "\n",
            "list.txt            100%[===================>]   3.54K  --.-KB/s    in 0s      \n",
            "\n",
            "2020-11-05 18:22:30 (34.9 MB/s) - ‘list.txt’ saved [3622/3622]\n",
            "\n"
          ],
          "name": "stdout"
        }
      ]
    },
    {
      "cell_type": "code",
      "metadata": {
        "id": "dSXLTx78_19G",
        "outputId": "743c7110-56e9-4d4e-be2a-97558f4bb0aa",
        "colab": {
          "base_uri": "https://localhost:8080/"
        }
      },
      "source": [
        "swear_words=[]\n",
        "with open('list.txt') as file:\n",
        "  htmltxt=file.readlines()\n",
        "for line in htmltxt:\n",
        "  swear_words.append(line.strip())\n",
        "print(swear_words)"
      ],
      "execution_count": 9,
      "outputs": [
        {
          "output_type": "stream",
          "text": [
            "['4r5e', '5h1t', '5hit', 'a55', 'anal', 'anus', 'ar5e', 'arrse', 'arse', 'ass', 'ass-fucker', 'asses', 'assfucker', 'assfukka', 'asshole', 'assholes', 'asswhole', 'a_s_s', 'b!tch', 'b00bs', 'b17ch', 'b1tch', 'ballbag', 'balls', 'ballsack', 'bastard', 'beastial', 'beastiality', 'bellend', 'bestial', 'bestiality', 'bi+ch', 'biatch', 'bitch', 'bitcher', 'bitchers', 'bitches', 'bitchin', 'bitching', 'bloody', 'blow job', 'blowjob', 'blowjobs', 'boiolas', 'bollock', 'bollok', 'boner', 'boob', 'boobs', 'booobs', 'boooobs', 'booooobs', 'booooooobs', 'breasts', 'buceta', 'bugger', 'bum', 'bunny fucker', 'butt', 'butthole', 'buttmunch', 'buttplug', 'c0ck', 'c0cksucker', 'carpet muncher', 'cawk', 'chink', 'cipa', 'cl1t', 'clit', 'clitoris', 'clits', 'cnut', 'cock', 'cock-sucker', 'cockface', 'cockhead', 'cockmunch', 'cockmuncher', 'cocks', 'cocksuck', 'cocksucked', 'cocksucker', 'cocksucking', 'cocksucks', 'cocksuka', 'cocksukka', 'cok', 'cokmuncher', 'coksucka', 'coon', 'cox', 'crap', 'cum', 'cummer', 'cumming', 'cums', 'cumshot', 'cunilingus', 'cunillingus', 'cunnilingus', 'cunt', 'cuntlick', 'cuntlicker', 'cuntlicking', 'cunts', 'cyalis', 'cyberfuc', 'cyberfuck', 'cyberfucked', 'cyberfucker', 'cyberfuckers', 'cyberfucking', 'd1ck', 'damn', 'dick', 'dickhead', 'dildo', 'dildos', 'dink', 'dinks', 'dirsa', 'dlck', 'dog-fucker', 'doggin', 'dogging', 'donkeyribber', 'doosh', 'duche', 'dyke', 'ejaculate', 'ejaculated', 'ejaculates', 'ejaculating', 'ejaculatings', 'ejaculation', 'ejakulate', 'f u c k', 'f u c k e r', 'f4nny', 'fag', 'fagging', 'faggitt', 'faggot', 'faggs', 'fagot', 'fagots', 'fags', 'fanny', 'fannyflaps', 'fannyfucker', 'fanyy', 'fatass', 'fcuk', 'fcuker', 'fcuking', 'feck', 'fecker', 'felching', 'fellate', 'fellatio', 'fingerfuck', 'fingerfucked', 'fingerfucker', 'fingerfuckers', 'fingerfucking', 'fingerfucks', 'fistfuck', 'fistfucked', 'fistfucker', 'fistfuckers', 'fistfucking', 'fistfuckings', 'fistfucks', 'flange', 'fook', 'fooker', 'fuck', 'fucka', 'fucked', 'fucker', 'fuckers', 'fuckhead', 'fuckheads', 'fuckin', 'fucking', 'fuckings', 'fuckingshitmotherfucker', 'fuckme', 'fucks', 'fuckwhit', 'fuckwit', 'fudge packer', 'fudgepacker', 'fuk', 'fuker', 'fukker', 'fukkin', 'fuks', 'fukwhit', 'fukwit', 'fux', 'fux0r', 'f_u_c_k', 'gangbang', 'gangbanged', 'gangbangs', 'gaylord', 'gaysex', 'goatse', 'God', 'god-dam', 'god-damned', 'goddamn', 'goddamned', 'hardcoresex', 'hell', 'heshe', 'hoar', 'hoare', 'hoer', 'homo', 'hore', 'horniest', 'horny', 'hotsex', 'jack-off', 'jackoff', 'jap', 'jerk-off', 'jism', 'jiz', 'jizm', 'jizz', 'kawk', 'knob', 'knobead', 'knobed', 'knobend', 'knobhead', 'knobjocky', 'knobjokey', 'kock', 'kondum', 'kondums', 'kum', 'kummer', 'kumming', 'kums', 'kunilingus', 'l3i+ch', 'l3itch', 'labia', 'lmfao', 'lust', 'lusting', 'm0f0', 'm0fo', 'm45terbate', 'ma5terb8', 'ma5terbate', 'masochist', 'master-bate', 'masterb8', 'masterbat*', 'masterbat3', 'masterbate', 'masterbation', 'masterbations', 'masturbate', 'mo-fo', 'mof0', 'mofo', 'mothafuck', 'mothafucka', 'mothafuckas', 'mothafuckaz', 'mothafucked', 'mothafucker', 'mothafuckers', 'mothafuckin', 'mothafucking', 'mothafuckings', 'mothafucks', 'mother fucker', 'motherfuck', 'motherfucked', 'motherfucker', 'motherfuckers', 'motherfuckin', 'motherfucking', 'motherfuckings', 'motherfuckka', 'motherfucks', 'muff', 'mutha', 'muthafecker', 'muthafuckker', 'muther', 'mutherfucker', 'n1gga', 'n1gger', 'nazi', 'nigg3r', 'nigg4h', 'nigga', 'niggah', 'niggas', 'niggaz', 'nigger', 'niggers', 'nob', 'nob jokey', 'nobhead', 'nobjocky', 'nobjokey', 'numbnuts', 'nutsack', 'orgasim', 'orgasims', 'orgasm', 'orgasms', 'p0rn', 'pawn', 'pecker', 'penis', 'penisfucker', 'phonesex', 'phuck', 'phuk', 'phuked', 'phuking', 'phukked', 'phukking', 'phuks', 'phuq', 'pigfucker', 'pimpis', 'piss', 'pissed', 'pisser', 'pissers', 'pisses', 'pissflaps', 'pissin', 'pissing', 'pissoff', 'poop', 'porn', 'porno', 'pornography', 'pornos', 'prick', 'pricks', 'pron', 'pube', 'pusse', 'pussi', 'pussies', 'pussy', 'pussys', 'rectum', 'retard', 'rimjaw', 'rimming', 's hit', 's.o.b.', 'sadist', 'schlong', 'screwing', 'scroat', 'scrote', 'scrotum', 'semen', 'sex', 'sh!+', 'sh!t', 'sh1t', 'shag', 'shagger', 'shaggin', 'shagging', 'shemale', 'shi+', 'shit', 'shitdick', 'shite', 'shited', 'shitey', 'shitfuck', 'shitfull', 'shithead', 'shiting', 'shitings', 'shits', 'shitted', 'shitter', 'shitters', 'shitting', 'shittings', 'shitty', 'skank', 'slut', 'sluts', 'smegma', 'smut', 'snatch', 'son-of-a-bitch', 'spac', 'spunk', 's_h_i_t', 't1tt1e5', 't1tties', 'teets', 'teez', 'testical', 'testicle', 'tit', 'titfuck', 'tits', 'titt', 'tittie5', 'tittiefucker', 'titties', 'tittyfuck', 'tittywank', 'titwank', 'tosser', 'turd', 'tw4t', 'twat', 'twathead', 'twatty', 'twunt', 'twunter', 'v14gra', 'v1gra', 'vagina', 'viagra', 'vulva', 'w00se', 'wang', 'wank', 'wanker', 'wanky', 'whoar', 'whore', 'willies', 'willy', 'xrated', 'xxx']\n"
          ],
          "name": "stdout"
        }
      ]
    },
    {
      "cell_type": "code",
      "metadata": {
        "id": "JisSVvTXyZMp",
        "outputId": "b59584a3-d5f3-47f5-92df-12e5510f9e5c",
        "colab": {
          "base_uri": "https://localhost:8080/"
        }
      },
      "source": [
        "#insert some swear words in a paragrah copied from newes articles  \n",
        "para=\"US Elections 2020 LIVE Updates: President Donald Trump on Wednesday falsely \"\n",
        "para= para + \"claimed that he had won the U.S. election with millions of votes still uncounted after his Democratic rival, Joe Biden, \"\n",
        "para = para+\" \"+swear_words[random.randint(10,20)] + \" \"+\"said  he was confident of winning a contest that will not be resolved until \"\n",
        "para =para +\" \"+swear_words[random.randint(100,150)] + \" \"+ \"a handful of states complete vote-counting over the next hours or days Wall Street's bugger main indexes were set to crap open \"\n",
        "para =para +\" \"+swear_words[random.randint(100,150)] + \" \"+\" sharply higher on Wednesday as the race for the White House went down to the wire, although investors remained worried about \"\n",
        "para =para +\" \"+swear_words[random.randint(150,190)] + \" \"+\"the prospect of a contested result. Republican President Donald Trump and Democratic contender Joe Biden both claimed they were on course for victory after results for a majority of states were called.\"\n",
        "para =para +\" \"+swear_words[random.randint(30,190)] + \" \"+\" Trump went further, claiming falsely that the election was being stolen from him with millions of votes still uncounted. The knife-edge election and the prospect of an acrimonious legal battle to determine the winner sent S&P\"\n",
        "para =para +\" \"+swear_words[random.randint(100,190)] + \" \"+\" e-mini futures tumbling 1.15% earlier, but they recovered to trade up Facebook Inc and Twitter Inc flagged some of President Donald Trumps posts on the U.S. election as votes were still being counted, in a real-time test of their rules on handling misinformation and premature claims of victory. Twitter also applied labels to posts by Democrat and Republican officials in the battleground states of Wisconsin and Florida, warning users that the information may be contested or inaccurate. Social media companies have been under fierce scrutiny over how they police rapidly spreading false information  election-related abuses of their platforms.\"\n",
        "print(\"Paragraph with swear words included :\\n\",para)"
      ],
      "execution_count": 10,
      "outputs": [
        {
          "output_type": "stream",
          "text": [
            "Paragraph with swear words included :\n",
            " US Elections 2020 LIVE Updates: President Donald Trump on Wednesday falsely claimed that he had won the U.S. election with millions of votes still uncounted after his Democratic rival, Joe Biden,  asses said  he was confident of winning a contest that will not be resolved until  ejaculates a handful of states complete vote-counting over the next hours or days Wall Street's bugger main indexes were set to crap open  ejaculating  sharply higher on Wednesday as the race for the White House went down to the wire, although investors remained worried about  fooker the prospect of a contested result. Republican President Donald Trump and Democratic contender Joe Biden both claimed they were on course for victory after results for a majority of states were called. fistfucked  Trump went further, claiming falsely that the election was being stolen from him with millions of votes still uncounted. The knife-edge election and the prospect of an acrimonious legal battle to determine the winner sent S&P fag  e-mini futures tumbling 1.15% earlier, but they recovered to trade up Facebook Inc and Twitter Inc flagged some of President Donald Trumps posts on the U.S. election as votes were still being counted, in a real-time test of their rules on handling misinformation and premature claims of victory. Twitter also applied labels to posts by Democrat and Republican officials in the battleground states of Wisconsin and Florida, warning users that the information may be contested or inaccurate. Social media companies have been under fierce scrutiny over how they police rapidly spreading false information  election-related abuses of their platforms.\n"
          ],
          "name": "stdout"
        }
      ]
    },
    {
      "cell_type": "code",
      "metadata": {
        "id": "4m7S05yUL8zU",
        "outputId": "a06d5e62-4fad-41ac-9ac4-d0de2023ac2e",
        "colab": {
          "base_uri": "https://localhost:8080/"
        }
      },
      "source": [
        "#list comprehension expression that finds the swear words in a paragraph \n",
        "res=[word for word in para.split(' ') if word in swear_words]\n",
        "\n",
        "print(\"Found the following swear words :\\n\",res)"
      ],
      "execution_count": 11,
      "outputs": [
        {
          "output_type": "stream",
          "text": [
            "Found the following swear words :\n",
            " ['asses', 'ejaculates', 'bugger', 'crap', 'ejaculating', 'fooker', 'fistfucked', 'fag']\n"
          ],
          "name": "stdout"
        }
      ]
    },
    {
      "cell_type": "code",
      "metadata": {
        "id": "vTDDfzGGauFI",
        "outputId": "0adcc805-063d-47a3-c58b-2a925ce0ddc8",
        "colab": {
          "base_uri": "https://localhost:8080/"
        }
      },
      "source": [
        "#expression that tells whether there are any swear words in the paragraph\n",
        "res=any([True if word in swear_words else False for word in para.split(' ') ])\n",
        "\n",
        "print(\"Does the paragraph contain swear words :\\n\",res)"
      ],
      "execution_count": 12,
      "outputs": [
        {
          "output_type": "stream",
          "text": [
            "Does the paragraph contain swear words :\n",
            " True\n"
          ],
          "name": "stdout"
        }
      ]
    },
    {
      "cell_type": "markdown",
      "metadata": {
        "id": "RA0lMAGk_2QP"
      },
      "source": [
        "##4. Using reduce functions: \n",
        "\n",
        "add only even numbers in a list\n",
        "\n",
        "find the biggest character in a string (printable ascii characters)\n",
        "\n",
        "adds every 3rd number in a list"
      ]
    },
    {
      "cell_type": "markdown",
      "metadata": {
        "id": "C4zRHa_k6XOt"
      },
      "source": [
        "##add only even numbers in a list"
      ]
    },
    {
      "cell_type": "code",
      "metadata": {
        "id": "D04hvpO8_8N0",
        "outputId": "c84e7b7c-2725-4d8d-a979-689abd938246",
        "colab": {
          "base_uri": "https://localhost:8080/"
        }
      },
      "source": [
        "# add only even numbers in a list\n",
        "# a list with numbers in the range 0-9\n",
        "l=[x for x in range(10)]\n",
        "#reduce function to add only even numbers in the list\n",
        "even_sum=functools.reduce(lambda x,y: x+y if y%2==0 else x,l)\n",
        "print(\"sum of all even numbers in list :\",even_sum)\n",
        "#verify \n",
        "print(\"check 0+2+4+6+8 :\",0+2+4+6+8)"
      ],
      "execution_count": 13,
      "outputs": [
        {
          "output_type": "stream",
          "text": [
            "sum of all even numbers in list : 20\n",
            "check 0+2+4+6+8 : 20\n"
          ],
          "name": "stdout"
        }
      ]
    },
    {
      "cell_type": "markdown",
      "metadata": {
        "id": "svRxxI546Zc5"
      },
      "source": [
        "##find the biggest character in a string (printable ascii characters)"
      ]
    },
    {
      "cell_type": "code",
      "metadata": {
        "id": "HXKemVujYG9k",
        "outputId": "36324f66-fecc-45ef-a520-7ee1757cdc63",
        "colab": {
          "base_uri": "https://localhost:8080/"
        }
      },
      "source": [
        "#find the biggest character in a string (printable ascii characters)\n",
        "str1=\"atfghyrobfewrwjhhjsfjkfa\"\n",
        "biggest_char=functools.reduce(lambda x,y: x if x>y else y,str1)\n",
        "print(\"largest character is string is : \",biggest_char)"
      ],
      "execution_count": 14,
      "outputs": [
        {
          "output_type": "stream",
          "text": [
            "largest character is string is :  y\n"
          ],
          "name": "stdout"
        }
      ]
    },
    {
      "cell_type": "markdown",
      "metadata": {
        "id": "VX3N-8bj6eht"
      },
      "source": [
        "##adds every 3rd number in a list"
      ]
    },
    {
      "cell_type": "code",
      "metadata": {
        "id": "QRe6UKMnaOtl",
        "outputId": "142a4826-7f65-4e5e-881b-06e8a06ee375",
        "colab": {
          "base_uri": "https://localhost:8080/"
        }
      },
      "source": [
        "#adds every 3rd number in a list\n",
        "list1=[x for x in range(100)]\n",
        "summ_of_every_third_element=functools.reduce(lambda a,b: a+b,[value for idx, value in enumerate(list1) if idx % 3 == 0])\n",
        "print(\"sum of every 3rd number in list :\",summ_of_every_third_element)"
      ],
      "execution_count": 15,
      "outputs": [
        {
          "output_type": "stream",
          "text": [
            "sum of every 3rd number in list : 1683\n"
          ],
          "name": "stdout"
        }
      ]
    },
    {
      "cell_type": "markdown",
      "metadata": {
        "id": "24dAfRq3_8fU"
      },
      "source": [
        "##5. Using randint, random.choice and list comprehensions, write an expression that generates 15 random KADDAADDDD number plates, where KA is fixed, D stands for a digit, and A stands for Capital alphabets. 10<<DD<<99 & 1000<<DDDD<<9999"
      ]
    },
    {
      "cell_type": "code",
      "metadata": {
        "id": "PTLC1ayg_9k_",
        "outputId": "f65f6400-91bc-49bb-cbd7-d801ff256176",
        "colab": {
          "base_uri": "https://localhost:8080/"
        }
      },
      "source": [
        "#lambda fn to create plate numbers\n",
        "create_plates=lambda KA,u_alpha,x1,x2,x3=10,x4=99:[KA+str(random.randint(x3,x4))+''.join(random.choices(u_alpha,k=2))+str(random.randint(x1,x2)) for _ in range(15)]\n",
        "\n",
        "k='KA'\n",
        "u_alpha=\"ABCDEFGHIJKLMNOPQRSTUVWXYZ\"\n",
        "x1=1000\n",
        "x2=9999\n",
        "\n",
        "# generate using the lambda function defined above\n",
        "list1=create_plates(k,u_alpha,x1,x2)\n",
        "print(list1)  \n",
        "print('\\n\\n')\n",
        "# generate using just a list comprhension without calling lambda function \n",
        "['KA'+str(random.randint(10,99))+''.join(random.choices(\"ABCDEFGHIJKLMNOPQRSTUVWXYZ\",k=2))+str(random.randint(1000,9999)) for _ in range(15)]\n"
      ],
      "execution_count": 16,
      "outputs": [
        {
          "output_type": "stream",
          "text": [
            "['KA50KF5879', 'KA14IL4157', 'KA97XK3396', 'KA11SL1993', 'KA98DO3278', 'KA78MA8303', 'KA67UY8128', 'KA81TT5208', 'KA64BY9183', 'KA25ZG6937', 'KA57LS6395', 'KA44BW9523', 'KA40SH1998', 'KA98WN8624', 'KA63WN3049']\n",
            "\n",
            "\n",
            "\n"
          ],
          "name": "stdout"
        },
        {
          "output_type": "execute_result",
          "data": {
            "text/plain": [
              "['KA48TD1352',\n",
              " 'KA45NN8215',\n",
              " 'KA59XH5776',\n",
              " 'KA19RF2578',\n",
              " 'KA37IK7752',\n",
              " 'KA88YP3617',\n",
              " 'KA71GS3218',\n",
              " 'KA93TR4063',\n",
              " 'KA39LX5498',\n",
              " 'KA22JO8315',\n",
              " 'KA58GC7245',\n",
              " 'KA50ZM7559',\n",
              " 'KA67IY9220',\n",
              " 'KA51GF2329',\n",
              " 'KA32FO9696']"
            ]
          },
          "metadata": {
            "tags": []
          },
          "execution_count": 16
        }
      ]
    },
    {
      "cell_type": "markdown",
      "metadata": {
        "id": "SzShzZWiAA8V"
      },
      "source": [
        "## 6. Write the above again from scratch where KA can be changed to DL, and 1000/9999 ranges can be provided.  PTS:100"
      ]
    },
    {
      "cell_type": "code",
      "metadata": {
        "id": "4eKv3uuBACTB",
        "outputId": "ec423cf5-cc3a-4920-d57c-1763cc260030",
        "colab": {
          "base_uri": "https://localhost:8080/"
        }
      },
      "source": [
        "#lambda fn to create plate numbers\n",
        "create_plates=lambda AA,u_alpha,x1,x2,x3=10,x4=99:[AA+str(random.randint(x3,x4))+''.join(random.choices(u_alpha,k=2))+str(random.randint(x1,x2)) for _ in range(15)]\n",
        "d='DL'\n",
        "\n",
        "create_plates(d,u_alpha,x1,x2)"
      ],
      "execution_count": 19,
      "outputs": [
        {
          "output_type": "execute_result",
          "data": {
            "text/plain": [
              "['DL72AL6035',\n",
              " 'DL76XG7024',\n",
              " 'DL49HI9148',\n",
              " 'DL85XQ8750',\n",
              " 'DL36EB3325',\n",
              " 'DL38TE2236',\n",
              " 'DL90DR5102',\n",
              " 'DL76MC8527',\n",
              " 'DL15LB3721',\n",
              " 'DL63CL9591',\n",
              " 'DL97SI5355',\n",
              " 'DL68HW9584',\n",
              " 'DL52DZ1224',\n",
              " 'DL72RF5432',\n",
              " 'DL39DW1293']"
            ]
          },
          "metadata": {
            "tags": []
          },
          "execution_count": 19
        }
      ]
    }
  ]
}